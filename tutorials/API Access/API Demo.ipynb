{
 "cells": [
  {
   "cell_type": "code",
   "execution_count": 1,
   "metadata": {},
   "outputs": [],
   "source": [
    "import pandas as pd\n",
    "import requests\n",
    "import seaborn as sns\n",
    "import numpy as np\n",
    "from matplotlib import pyplot as plt\n",
    "import time"
   ]
  },
  {
   "cell_type": "code",
   "execution_count": 2,
   "metadata": {},
   "outputs": [],
   "source": [
    "metadata_api = \"https://maayanlab.cloud/sigcom-lincs/metadata-api\"\n",
    "data_api = \"https://maayanlab.cloud/sigcom-lincs/data-api/api/v1\""
   ]
  },
  {
   "cell_type": "markdown",
   "metadata": {},
   "source": [
    "## Signature Search"
   ]
  },
  {
   "cell_type": "code",
   "execution_count": 3,
   "metadata": {},
   "outputs": [],
   "source": [
    "# GFP_vs_SARS-CoV-2_Mouse_Fat_Day3_GSE162113\n",
    "up_genes = \"GBP7,SDR42E1,GBP6,GBP9,MX1,CADM3,ANKFY1,GM45418,MX2,HSPE1,PSMB9,RBP7,LGALS12,HMBS,IDNK,PSMC5,TEF,IGTP,POMP,RETN,TOB1,SLC5A6,ASCL1,RNF114,MILR1,NXNL1,GBP3,GBP2,GBP5,EPSTI1,ST3GAL4,ATG3,BATF2,DAXX,PRKCE,RMDN3,NR1D2,COQ10B,MOV10,FASN,SASS6,PSME2,PSME1,AC151730.1,MRPL17,TAPBPL,GVIN1,RRP9,LRPAP1,C2,RNF213,PLAC8,ZC3H12A,HMOX2,JUNB,IER3,PNPT1,PDHA1,H3F3B,TMCO4,SUMF2,FXYD1,MRPL30,SIGLEC1,BC023105,BHLHE40,PXMP2,BHLHE41,MRAP,ETFBKMT,GM4951,MITD1,G530011O06RIK,MOCS1,TMEM106A,IL18BP,ABHD5,ZC3HAV1,MS4A4C,ACAT2,AACS,LDHA,CASP12,TRIM5,MGL2,STAT1,5-MAR,STAT2,DGAT1,ELMOD3,STAT3,MOCOS,NR1H3,NMNAT3,PSMA6,MS4A6C,MS4A6B,HADHB,PSMA7,DHRS7,PSMA4,PSMA5,PSMA2,PSMA3,APEX1,TIMELESS,GPR146,TKT,ANGPTL2,BSCL2,SRPX,CCL12,CCL11,PLPPR3,OGFR,TDRP,ODF3L1,UNG,SNX10,MS4A6D,9330175E14RIK,IFIH1,PSMB8,NAMPT,AIFM2,OLFR56,PSMB2,ANXA7,9130208D14RIK,METTL7B,1600014C10RIK,TMEM14C,SLC39A1,TAP2,TAP1,SERPINA3N,IFIT1BL2,CDC25B,IFIT1BL1,CXCL10,FCGR1,RAB34,MS4A8A,LY6A,TRAFD1,LY6E,PF4,TRIM34A,GM43197,APOL7A,ALDH1L1,SLC27A1,NATD1,CSF1,RASL11B,GM4070,TSPAN31,PLOD3,RNF31,TUBB6,RNF19B,ACSS2,MAP2K3,MAP2K1,TMEM120B,TMEM120A,LSM1,GGCT,MYD88,SCCPDH,GM26637,HPSE,XAF1,NIT2,TRIM12A,TRIM12C,EXOC3L2,AK2,EIF4EBP1,IPO4,CORO1B,MPC1,CLEC5A,SETDB2,DTX3L,EIF2AK2,GFPT2,GM12250,TNFRSF1A,GM37310,RTN4RL2,BCL3,GM8113,SLC25A1,SAR1B,WHAMM,CCDC25,UAP1,APIP,NLRC5,DRAM2,MPC1-PS,ME1,KCNH4,ADSL,9530082P21RIK,NDUFA1,NSMCE1,SUGCT,CTDSPL,TBX3,CDC34,ATXN10,SMPDL3B,GAPDH,B430219N15RIK,SPG21,TRIM30A,DRAXIN,TRIM30C,APOL9B,APOL9A,TRIM30D,PRPS1,H2-Q4,HSD17B12,SYNE3,CCL9,CCL7,RNPEP,CCL6,DHX58,10-SEP,TRIM25,BAK1,SLC25A22,TRIM21,PGM2,PEX19,SP110,ACSL1,RSAD2,IFRD2,PLEKHA4,PEX13,PEX14,PML,PEX16,GM28875,NINJ1,XRN2,LAP3,IFI27,TRIM14,IFITM3,ISOC2A,SP100,CPNE8,KEAP1,IL21R,AKAP7,MNDAL,UBE2L6,PSMB10,PNP,HERC6,NCLN,B2M,GM5431,IFITM6,NTSR2,GM16675,XBP1,GINM1,CMC1,TALDO1,IRGM2,IRGM1,IFI47,IFI44,PARP14,PARP11,PARP12,POR,PARP10,SPATS2L,TLCD2,RGL3,C2CD2L,PTGES,ZFP503,SLC22A4,ARL6IP1,IFI35,MTFR1L,MGST1,IFIT2,GM16685,IFIT1,ICAM1,IFIT3,ZNHIT1,HELZ2,TSPAN4,FFAR2,LGALS9,PDK1,OASL1,OASL2,IL10,NMI,LYVE1,OSMR,VEGFA,BST2,BST1,UGDH,THEMIS2,ID1,C1QTNF12,KCNS3,GM8995,TLR3,CLIC4,SDC3,AC122018.1,PHF11A,OAS1A,PHF11B,OAS1B,OAS1G,TOR1AIP2,2810474O19RIK,PHF11D,PCSK4,TOR1AIP1,ACACA,SOCS3,SBNO2,SOCS1,SNX2,SCAND1,TOR3A,TGTP1,CBR2,TGTP2,PARP3,FAM46A,SPRYD7,SORBS1,PGRMC1,LIMA1,PARP9,PER3,PDP2,LRRN4CL,GPAM,CMPK2,AIDA,CD47,GM5460,C1QC,C1QB,C1QA,SLC43A3,ZFP703,SLC43A1,SRA1,OLA1,DERL1,AKR1B7,NUDT7,SPTLC1,GM6548,SERTAD1,XDH,IFI209,ZBP1,IFI207,GINS1,C1RA,IFI208,IFI205,IFI206,LMO4,IFI203,IFI204,SHISA5,F830016B08RIK,ZNFX1,AXL,GPD1,CAPZA2,IFIT3B,PMP22,CDK2AP2,CHMP4B,YPEL5,STEAP3,RPP25,GDA,SLFN9,SLFN8,SLFN2,SLFN5,SLFN4,SLC1A3,IFI213,SLC1A5,IFI211,ASB13,SAMD9L,ZFP36L2,GM29458,PTTG1,C1RL,SLFN1,SREBF1,OPN3,IIGP1,DDX58,ISG15,ISG20,ZCCHC2,TXN1,COX18,LGALS3BP,GM16168,FCNA,DDX60,TGM1,HCAR1,HCAR2,GM4841,MLKL,GM20559,MT1,PEX3,MT2,TAPBP,TGFBR2,ADGRD1,IRF1,COQ2,4930599N23RIK,OAS2,OAS3,RASA3,IRF9,CYCS,IRF7,NNMT,STOML2,UBA7,TNFAIP8,EHHADH,DBI,NT5C3,AGPAT2,ADAR,DBP,RAI2,CASP8,DNPEP,MFSD8,MFSD5,IRAK3,CASP4,SP140,CASP1,GM20684,9930111J21RIK2,LGI2,CD209F,TIMD4,SGTA,TAF10,DCK,IFI203-PS,SOD2,SNTB1,ALDH1A7,GBP11,GBP10,ACKR1,LTBR,SLIRP,RBM43,SSBP4,H2-T24,H2-T23,RTP4,H2-T22,USP18,CIART,IL1RL2,CHCHD3,DDT,ABHD16A,C130012C08RIK\"\n",
    "down_genes = \"CDK18,WSB1,UNC13B,CFAP74,STARD9,CADM1,CFAP70,D630003M21RIK,CACNA2D3,1700012P22RIK,F730311O21RIK,ARMC2,MEX3A,MARCKS,SPINT1,MYL2,CD9,ACOT1,SPARCL1,DCHS1,TES,FRMPD1,ATF3,AI314278,PGAP1,ABCB1A,TRRAP,MAML3,MRGPRE,ADARB1,GLS,SLC5A3,FNBP1L,SNX32,ADCY7,UCKL1OS,DLL4,DPYSL2,CRACR2B,FBXL20,MXI1,CDK20,MS4A14,PRKCH,PRKCG,1700024P16RIK,PRKCD,PRKCB,SLC16A10,PDZK1,SLC16A14,PRRC2B,PBX1,FERMT1,HSPG2,SLC6A8,KITL,FAT3,FAT4,DNAH10,CFAP54,PADI2,CFI,TRIL,PDGFA,PLA2G5,RAPH1,ENO3,ABR,GJA1,ZC3H12C,ZFP185,PIP5K1C,PROM2,TRP53INP1,CFAP65,RHBDL3,XYLB,UPF2,CCL22,CHKA,GM15800,MYOF,SPHK1,TESC,LYRM9,CDC7,TMC5,PLXDC1,MMP12,MMP15,RNF149,PAX8,TTLL3,GIPC2,CCL28,RET,HRK,GRAMD1B,IGHV6-3,BTG2,BTG1,KCNC2,IQGAP3,GM26703,STAP1,GPRASP1,HAVCR2,TEAD4,MBD4,TMOD1,PKLR,FMO3,SPSB4,ADAM19,COL4A3,RNF128,MAP1B,SLC29A3,FRYL,LAD1,CDKN1A,LPCAT1,MUP-PS21,ADAM22,KCNA5,TCF20,GLI2,GRAMD4,CENPA,SNCAIP,4930578C19RIK,CKB,SLC17A7,SRSF10,GATSL2,CSGALNACT1,BIK,TLE2,COL28A1,CORO2A,PLXNC1,HIPK2,HIPK1,CNOT6,OLFR558,ADAM8,PHLDB2,ANKRD37,PLXND1,GLT8D2,FAM129A,TNC,EGFR,NPAS2,STRA6L,2900026A02RIK,GGA3,FGD6,DACH1,ABLIM3,CDH1,PIPOX,RNF19A,CEP250,LEO1,NPTX1,SPP1,STX3,SLC15A2,KCND3,ZFP219,TMEM132C,OSBPL3,TMEM132B,TTC21A,ESRRG,NBEA,ADRA2C,DGKZ,ADRA2B,PGF,1700020I14RIK,TFDP2,CYP2D22,6330403L08RIK,FSCN1,ESAM,TOX,INTS6L,GM45396,INO80D,NOTCH4,FAM49A,KMT2A,KMT2D,RNF180,STK10,9430020K01RIK,BTBD3,PLXNA1,BMF,SRGAP3,RAB4A,FIRRE,TRIM67,SLC38A5,ITGA1,SLC37A2,KSR2,ANGPT2,KSR1,KCNJ16,SPTB,TNFRSF21,ZFP69,ITGAD,APOA1,MFAP4,OGT,KCNK1,AHDC1,NFAT5,GM5086,ITPR2,NREP,ITPR1,TRP53I11,FSD1L,1700025G04RIK,MROH1,KLC4,MDK,APH1C,RDH16,B4GALNT4,B930095G15RIK,LIMCH1,CEP131,4933439C10RIK,MYO10,MBOAT2,FOXJ1,MCOLN3,MYO1E,ASPN,MYO1F,MGAT4A,DNAJA4,SLC25A13,PLEKHG1,PRPS2,SLC47A1,SYNE1,TULP3,DNM3OS,TTN,TSPAN13,PIK3C2A,SYNE2,MALT1,THBD,2310015A10RIK,PSD4,ITGAX,TNNI3,SERPINB9B,LRRC8C,ZKSCAN16,KCNJ2,CACNG4,ZFP420,BEND7,CCNJL,SECTM1B,PLEKHA1,P3H2,MMD2,NBEAL2,MYO7B,B130024G19RIK,MTURN,ST5,NIN,RRAGD,SOAT1,NSMF,ALPK3,LRRN1,RIN3,PPP1R36,CALML3,ARNTL,AQP2,NOCT,APBB2,RAB11FIP3,PAQR5,ST8SIA4,DDIT4L,ANK3,MIF4GD,CBFA2T3,IFFO2,CCDC88C,PPP1R1B,TNNT2,WNK3,MACF1,HDAC11,PCDH12,RAPGEFL1,SOGA1,SOX4,PKHD1,RUSC2,MICAL2,KIF21B,CEP170B,KCNN4,TRPM4,GM867,IZUMO4,AASS,ZHX3,GABBR1,KLHL3,LILRB4A,PLET1,ENAH,PDZK1IP1,PTPRE,LAT2,MAPT,DCSTAMP,RGS7BP,ALDOB,CLIC6,CLIC5,FAM43A,CX3CL1,ZMYM1,SEC14L1,SH3PXD2B,CNTRL,HNF4A,NFIL3,RAB6B,BBS4,ARNT2,PALD1,TM4SF19,ATP6V1G2,CGREF1,MPP4,PACRG,TTC3,GAN,MARF1,ARHGAP27OS2,KIT,STAC2,ATP6V0D2,DNASE1L1,F2RL3,NRP2,ECM2,ZDHHC1,SYNM,ZFP704,TRAF3IP1,SIPA1L3,DCST1,AKAP13,SERTAD4,CUX2,EGFLAM,CXCR4,CREG2,PTCHD1,B230354K17RIK,PPP4R1L-PS,CCDC157,KIRREL3,SZT2,MOK,MATK,RPGRIP1L,LMO7,ARHGAP27,TMEM252,ARHGAP25,TANC2,COL5A1,ATG16L2,SCN8A,APLNR,DPEP2,ULBP1,WDFY3,CCDC153,IVNS1ABP,YAP1,FBLN7,CD83,ODF3B,KNDC1,GIMAP8,AMOT,NT5E,CASKIN1,TCTEX1D4,IGF2R,TGIF1,USP43,CD93,LRRC75B,GM45836,MINK1,ARHGEF19,POU3F3,9530026P05RIK,DNAL1,CASQ2,CDH16,FGFR4,VIL1,IL7R,FGFR2,AMHR2,LRRC74B,LRRFIP1,CACNA1A,CACNA1D,SEL1L3,VSIG10,C77080,RGS6,RGS1,FAM150B,UBD,CDH23,RGS9,GGT1,ADGRG1,FAM81A,MFAP3L,ZFHX2,TRDN,MMP7,GALNT6,ZFHX3,MIR6392,MYOCD,MKL2,HSPA2,SHROOM4,IQCD,NAV2,EPN2,AFDN,ELF3,TNIP3,GNAO1,CUEDC1,LPIN3,MAST4,GM45605,MAST3,SMIM1,CHD5,DTX4,SLC40A1,CHD3,PDE4C,BLNK,LONRF3,RRM2,DAPK1,MIGA1,TBC1D9,SLC4A8,PLA2G15,PEAK1,INAFM1,TBC1D8,RGS11,LNX1,SPRY1,RGS12,CLOCK,CCDC173,PKD1,LAMA5,CAMK2B,CBL,1700003E16RIK,THBS2,NOS2,VSIG8\""
   ]
  },
  {
   "cell_type": "markdown",
   "metadata": {},
   "source": [
    "### Step 1: Convert the gene names to uuids"
   ]
  },
  {
   "cell_type": "code",
   "execution_count": 4,
   "metadata": {},
   "outputs": [],
   "source": [
    "def convert_entities(genes):\n",
    "    query = {}\n",
    "    payload = {\n",
    "        \"filter\": {\n",
    "            \"where\": {\n",
    "                \"meta.symbol\": {\"inq\": genes.split(\",\")}\n",
    "            },\n",
    "            \"fields\": [\"id\"]\n",
    "        }\n",
    "    }\n",
    "    res = requests.post(metadata_api + \"/entities/find\", json=payload)\n",
    "    return [i[\"id\"] for i in res.json()]"
   ]
  },
  {
   "cell_type": "code",
   "execution_count": 5,
   "metadata": {},
   "outputs": [],
   "source": [
    "up_entities = convert_entities(up_genes)\n",
    "down_entities = convert_entities(down_genes)"
   ]
  },
  {
   "cell_type": "markdown",
   "metadata": {},
   "source": [
    "### Step 2: Get the name of the dataset that we want to use"
   ]
  },
  {
   "cell_type": "code",
   "execution_count": 6,
   "metadata": {},
   "outputs": [
    {
     "data": {
      "text/plain": [
       "[{'id': '96c7b8c5-1eca-5764-88e4-e4ccaee6603f',\n",
       "  'dataset': 'l1000_xpr',\n",
       "  'meta': {'description': 'LINCS L1000 CRISPR Perturbations (2021)'}}]"
      ]
     },
     "execution_count": 6,
     "metadata": {},
     "output_type": "execute_result"
    }
   ],
   "source": [
    "# full text search\n",
    "payload = {\n",
    "    \"filter\": {\n",
    "        \"where\": {\n",
    "            \"meta\": {\n",
    "                \"fullTextSearch\": \"LINCS L1000 CRISPR Perturbations (2021)\"\n",
    "            } \n",
    "        },\n",
    "        \"fields\": [\"id\", \"dataset\", \"meta.description\"]\n",
    "    }\n",
    "}\n",
    "res = requests.post(metadata_api + \"/libraries/find\", json=payload)\n",
    "library = res.json()\n",
    "library"
   ]
  },
  {
   "cell_type": "markdown",
   "metadata": {},
   "source": [
    "### Step 3: Get persistent ID"
   ]
  },
  {
   "cell_type": "code",
   "execution_count": 7,
   "metadata": {},
   "outputs": [
    {
     "name": "stdout",
     "output_type": "stream",
     "text": [
      "You can now visit: https://maayanlab.cloud/sigcom-lincs/#/SignatureSearch/UpDown/8436afc0-a513-51b8-a92f-1a8a29cc0667\n"
     ]
    }
   ],
   "source": [
    "payload = {\n",
    "    \"meta\": {\n",
    "        \"up_entities\": up_entities,\n",
    "        \"down_entities\": down_entities,\n",
    "        \"description\": \"GFP_vs_SARS-CoV-2_Mouse_Fat_Day3_GSE162113\",\n",
    "        \"$validator\": \"/dcic/signature-commons-schema/v6/meta/user_input/user_input.json\"\n",
    "    }\n",
    "}\n",
    "\n",
    "res = requests.post(metadata_api + \"/user_input\", json=payload)\n",
    "uid = res.json()[\"id\"]\n",
    "print(\"You can now visit: https://maayanlab.cloud/sigcom-lincs/#/SignatureSearch/UpDown/\" + uid)"
   ]
  },
  {
   "cell_type": "markdown",
   "metadata": {},
   "source": [
    "### Step 4: Perform signature search"
   ]
  },
  {
   "cell_type": "code",
   "execution_count": 8,
   "metadata": {},
   "outputs": [],
   "source": [
    "database = library[0][\"dataset\"]\n",
    "\n",
    "query = {\n",
    "    \"up_entities\": up_entities,\n",
    "    \"down_entities\": down_entities,\n",
    "    \"database\": database,\n",
    "    \"limit\": 5 # top 5 mimickers and reversers\n",
    "}\n",
    "\n",
    "res = requests.post(data_api + \"/enrich/ranktwosided\", json=query)\n",
    "results = res.json()"
   ]
  },
  {
   "cell_type": "code",
   "execution_count": 9,
   "metadata": {},
   "outputs": [],
   "source": [
    "results = results[\"results\"]"
   ]
  },
  {
   "cell_type": "code",
   "execution_count": 10,
   "metadata": {},
   "outputs": [
    {
     "data": {
      "text/plain": [
       "[{'direction-up': 1,\n",
       "  'fdr-down': 5.524778086709303e-09,\n",
       "  'logp-avg': 27.041506381502497,\n",
       "  'logp-fisher': 744.4400719213812,\n",
       "  'p-up': 0,\n",
       "  'type': 'mimickers',\n",
       "  'uuid': 'fb9d8377-1e19-5af2-9f05-4932e9b4f261',\n",
       "  'z-down': 6.952706134493964,\n",
       "  'fdr-up': 1.443e-321,\n",
       "  'z-sum': 15.999750391312203,\n",
       "  'z-up': 9.04704425681824,\n",
       "  'p-down': 3.6062264285874335e-12,\n",
       "  'p-down-bonferroni': 5.082795839772558e-07,\n",
       "  'rank': 0,\n",
       "  'p-up-bonferroni': 6.9636e-319,\n",
       "  'direction-down': -1},\n",
       " {'direction-up': 1,\n",
       "  'fdr-down': 8.098814031333952e-10,\n",
       "  'logp-avg': 29.750234110270675,\n",
       "  'logp-fisher': 62.0758172018969,\n",
       "  'p-up': 4.6629367034256575e-15,\n",
       "  'type': 'mimickers',\n",
       "  'uuid': 'ad262d94-2627-53b8-8d38-5c8688909468',\n",
       "  'z-down': 7.327834741864713,\n",
       "  'fdr-up': 7.824019210289634e-13,\n",
       "  'z-sum': 15.164424939750305,\n",
       "  'z-up': 7.836590197885592,\n",
       "  'p-down': 2.355893258254582e-13,\n",
       "  'p-down-bonferroni': 3.320513752846921e-08,\n",
       "  'rank': 1,\n",
       "  'p-up-bonferroni': 6.572176136643293e-10,\n",
       "  'direction-down': -1},\n",
       " {'direction-up': 1,\n",
       "  'fdr-down': 7.289724265624165e-05,\n",
       "  'logp-avg': 14.275646986726493,\n",
       "  'logp-fisher': 744.4400719213812,\n",
       "  'p-up': 0,\n",
       "  'type': 'mimickers',\n",
       "  'uuid': '143f4d7a-fd0f-5a52-b414-972b10d872da',\n",
       "  'z-down': 4.845853217954624,\n",
       "  'fdr-up': 1.443e-321,\n",
       "  'z-sum': 14.646012635972891,\n",
       "  'z-up': 9.800159418018268,\n",
       "  'p-down': 1.2623950522705485e-06,\n",
       "  'p-down-bonferroni': 0.17792827064227246,\n",
       "  'rank': 2,\n",
       "  'p-up-bonferroni': 6.9636e-319,\n",
       "  'direction-down': -1},\n",
       " {'direction-up': 1,\n",
       "  'fdr-down': 0.00019092371795169147,\n",
       "  'logp-avg': 12.960422719264507,\n",
       "  'logp-fisher': 744.4400719213812,\n",
       "  'p-up': 0,\n",
       "  'type': 'mimickers',\n",
       "  'uuid': 'f3995a23-8fa4-59e0-9d0f-0ae273b95d8c',\n",
       "  'z-down': 4.5778222304422655,\n",
       "  'fdr-up': 1.443e-321,\n",
       "  'z-sum': 14.464280747316382,\n",
       "  'z-up': 9.886458516874116,\n",
       "  'p-down': 4.7031618626292016e-06,\n",
       "  'p-down-bonferroni': 0.6628871487282728,\n",
       "  'rank': 3,\n",
       "  'p-up-bonferroni': 6.9636e-319,\n",
       "  'direction-down': -1},\n",
       " {'direction-up': 1,\n",
       "  'fdr-down': 1.0312905171325659e-05,\n",
       "  'logp-avg': 16.850555521590866,\n",
       "  'logp-fisher': 744.4400719213812,\n",
       "  'p-up': 0,\n",
       "  'type': 'mimickers',\n",
       "  'uuid': '9b177487-ca56-5853-bca8-f9273386a7a7',\n",
       "  'z-down': 5.334252486849751,\n",
       "  'fdr-up': 1.443e-321,\n",
       "  'z-sum': 14.249746871159775,\n",
       "  'z-up': 8.915494384310025,\n",
       "  'p-down': 9.614500262600245e-08,\n",
       "  'p-down-bonferroni': 0.013551157395121916,\n",
       "  'rank': 4,\n",
       "  'p-up-bonferroni': 6.9636e-319,\n",
       "  'direction-down': -1},\n",
       " {'direction-up': -1,\n",
       "  'fdr-down': 0.0003332478409262831,\n",
       "  'logp-avg': 12.209017026921558,\n",
       "  'logp-fisher': 744.4400719213812,\n",
       "  'p-up': 0,\n",
       "  'type': 'reversers',\n",
       "  'uuid': 'f91cc3e8-e9ab-5f69-85a3-5aff02575a5f',\n",
       "  'z-down': -4.417990083789013,\n",
       "  'fdr-up': 1.443e-321,\n",
       "  'z-sum': -15.33997160664277,\n",
       "  'z-up': -10.921981522853757,\n",
       "  'p-down': 9.970599490483067e-06,\n",
       "  'p-down-bonferroni': 1,\n",
       "  'rank': 140944,\n",
       "  'p-up-bonferroni': 6.9636e-319,\n",
       "  'direction-down': 1},\n",
       " {'direction-up': -1,\n",
       "  'fdr-down': 0.0026272086557090238,\n",
       "  'logp-avg': 9.421177328701239,\n",
       "  'logp-fisher': 744.4400719213812,\n",
       "  'p-up': 0,\n",
       "  'type': 'reversers',\n",
       "  'uuid': 'b0f650b8-b4ed-539d-9eaa-dc8dca782d3f',\n",
       "  'z-down': -3.7720231508618247,\n",
       "  'fdr-up': 1.443e-321,\n",
       "  'z-sum': -14.582838330691725,\n",
       "  'z-up': -10.8108151798299,\n",
       "  'p-down': 0.0001619812211721694,\n",
       "  'p-down-bonferroni': 1,\n",
       "  'rank': 140943,\n",
       "  'p-up-bonferroni': 6.9636e-319,\n",
       "  'direction-down': 1},\n",
       " {'direction-up': -1,\n",
       "  'fdr-down': 1.0682362129908431e-07,\n",
       "  'logp-avg': 23.040676206742756,\n",
       "  'logp-fisher': 58.3911835421056,\n",
       "  'p-up': 2.220446049250313e-16,\n",
       "  'type': 'reversers',\n",
       "  'uuid': '39caebc6-657c-5db3-95dd-5eb93986e9fa',\n",
       "  'z-down': -6.364312896702814,\n",
       "  'fdr-up': 5.5001892515217117e-14,\n",
       "  'z-sum': -14.568617333865863,\n",
       "  'z-up': -8.20430443716305,\n",
       "  'p-down': 1.9705659326518798e-10,\n",
       "  'p-down-bonferroni': 2.777414153776192e-05,\n",
       "  'rank': 140942,\n",
       "  'p-up-bonferroni': 3.129607684115854e-11,\n",
       "  'direction-down': 1},\n",
       " {'direction-up': -1,\n",
       "  'fdr-down': 2.04697833080899e-06,\n",
       "  'logp-avg': 19.04819167686289,\n",
       "  'logp-fisher': 744.4400719213812,\n",
       "  'p-up': 0,\n",
       "  'type': 'reversers',\n",
       "  'uuid': '4e75d947-373e-5ad7-aef9-0b2234f4664b',\n",
       "  'z-down': -5.720083101128869,\n",
       "  'fdr-up': 1.443e-321,\n",
       "  'z-sum': -14.036943667416981,\n",
       "  'z-up': -8.316860566288113,\n",
       "  'p-down': 1.0678382178497259e-08,\n",
       "  'p-down-bonferroni': 0.0015050645761482961,\n",
       "  'rank': 140941,\n",
       "  'p-up-bonferroni': 6.9636e-319,\n",
       "  'direction-down': 1},\n",
       " {'direction-up': -1,\n",
       "  'fdr-down': 0.00043094516485672865,\n",
       "  'logp-avg': 11.858489759485797,\n",
       "  'logp-fisher': 744.4400719213812,\n",
       "  'p-up': 0,\n",
       "  'type': 'reversers',\n",
       "  'uuid': '5a1b24d5-7152-53f5-9a1e-d77d15f88f52',\n",
       "  'z-down': -4.34158706055622,\n",
       "  'fdr-up': 1.443e-321,\n",
       "  'z-sum': -13.974740515412883,\n",
       "  'z-up': -9.633153454856663,\n",
       "  'p-down': 1.415641642688037e-05,\n",
       "  'p-down-bonferroni': 1,\n",
       "  'rank': 140940,\n",
       "  'p-up-bonferroni': 6.9636e-319,\n",
       "  'direction-down': 1}]"
      ]
     },
     "execution_count": 10,
     "metadata": {},
     "output_type": "execute_result"
    }
   ],
   "source": [
    "results"
   ]
  },
  {
   "cell_type": "markdown",
   "metadata": {},
   "source": [
    "### Step 5: Resolve signature metadata"
   ]
  },
  {
   "cell_type": "code",
   "execution_count": 11,
   "metadata": {},
   "outputs": [
    {
     "data": {
      "text/plain": [
       "10"
      ]
     },
     "execution_count": 11,
     "metadata": {},
     "output_type": "execute_result"
    }
   ],
   "source": [
    "sig_ids = [i[\"uuid\"] for i in results]\n",
    "# full text search\n",
    "payload = {\n",
    "    \"filter\": {\n",
    "        \"where\": {\n",
    "            \"id\": {\"inq\": sig_ids}\n",
    "        }\n",
    "    }\n",
    "}\n",
    "res = requests.post(metadata_api + \"/signatures/find\", json=payload)\n",
    "signatures = {i[\"id\"] : i for i in res.json()}\n",
    "len(signatures)"
   ]
  },
  {
   "cell_type": "code",
   "execution_count": 12,
   "metadata": {},
   "outputs": [],
   "source": [
    "resolved = []\n",
    "for i in results:\n",
    "    uid = i.pop(\"uuid\")\n",
    "    sig = signatures[uid]\n",
    "    sig[\"scores\"] = i\n",
    "    resolved.append(sig)"
   ]
  },
  {
   "cell_type": "code",
   "execution_count": 13,
   "metadata": {},
   "outputs": [
    {
     "data": {
      "text/plain": [
       "{'$validator': '/dcic/signature-commons-schema/v5/core/signature.json',\n",
       " 'id': 'fb9d8377-1e19-5af2-9f05-4932e9b4f261',\n",
       " 'library': '96c7b8c5-1eca-5764-88e4-e4ccaee6603f',\n",
       " 'meta': {'md5': 'c23747143ad518a89d0cf5bff2355c85',\n",
       "  'doid': 'DOID:1520',\n",
       "  'sha256': '9937d51f912352aea473defb8174213ea8539b3e4e733a530ea1ea5cf32d252d',\n",
       "  'tissue': 'colon',\n",
       "  'anatomy': 'UBERON:0001155',\n",
       "  'cmap_id': 'XPR029_HT29.311_96H:L15',\n",
       "  'disease': 'colon adenocarcinoma',\n",
       "  'version': 1,\n",
       "  'filename': 'L1000_LINCS_DCIC_XPR029_HT29.311_96H_L15_PTPN1.tsv',\n",
       "  'local_id': 'XPR029_HT29.311_96H_L15_PTPN1',\n",
       "  'cell_line': 'HT29',\n",
       "  'pert_name': 'PTPN1',\n",
       "  'pert_time': '96 h',\n",
       "  'pert_type': 'CRISPR Knockout',\n",
       "  '$validator': 'https://raw.githubusercontent.com/MaayanLab/sigcom-lincs/main/validators/l1000_signatures.json',\n",
       "  'data_level': 5,\n",
       "  'creation_time': '2021-05-25',\n",
       "  'persistent_id': 'https://lincs-dcic.s3.amazonaws.com/LINCS-sigs-2021/cd/xpr/L1000_LINCS_DCIC_XPR029_HT29.311_96H_L15_PTPN1.tsv',\n",
       "  'size_in_bytes': 217436,\n",
       "  'uncompressed_size_in_bytes': 217436},\n",
       " 'scores': {'direction-up': 1,\n",
       "  'fdr-down': 5.524778086709303e-09,\n",
       "  'logp-avg': 27.041506381502497,\n",
       "  'logp-fisher': 744.4400719213812,\n",
       "  'p-up': 0,\n",
       "  'type': 'mimickers',\n",
       "  'z-down': 6.952706134493964,\n",
       "  'fdr-up': 1.443e-321,\n",
       "  'z-sum': 15.999750391312203,\n",
       "  'z-up': 9.04704425681824,\n",
       "  'p-down': 3.6062264285874335e-12,\n",
       "  'p-down-bonferroni': 5.082795839772558e-07,\n",
       "  'rank': 0,\n",
       "  'p-up-bonferroni': 6.9636e-319,\n",
       "  'direction-down': -1}}"
      ]
     },
     "execution_count": 13,
     "metadata": {},
     "output_type": "execute_result"
    }
   ],
   "source": [
    "resolved[0]"
   ]
  },
  {
   "cell_type": "markdown",
   "metadata": {},
   "source": [
    "## Signature Search with Single Gene Sets"
   ]
  },
  {
   "cell_type": "markdown",
   "metadata": {},
   "source": [
    "### Step 1: Get Persistent ID"
   ]
  },
  {
   "cell_type": "code",
   "execution_count": 15,
   "metadata": {},
   "outputs": [
    {
     "name": "stdout",
     "output_type": "stream",
     "text": [
      "You can now visit (note the URL): https://maayanlab.cloud/sigcom-lincs/#/SignatureSearch/Set/7c23142c-f801-54ce-a73e-ece0cb0b82d6\n"
     ]
    }
   ],
   "source": [
    "payload = {\n",
    "    \"meta\": {\n",
    "        \"entities\": down_entities,\n",
    "        \"description\": \"GFP_vs_SARS-CoV-2_Mouse_Fat_Day3_GSE162113_down\",\n",
    "        \"$validator\": \"/dcic/signature-commons-schema/v6/meta/user_input/user_input.json\"\n",
    "    }\n",
    "}\n",
    "\n",
    "res = requests.post(metadata_api + \"/user_input\", json=payload)\n",
    "uid = res.json()[\"id\"]\n",
    "print(\"You can now visit (note the URL): https://maayanlab.cloud/sigcom-lincs/#/SignatureSearch/Set/\" + uid)"
   ]
  },
  {
   "cell_type": "markdown",
   "metadata": {},
   "source": [
    "### Step 2: Sig"
   ]
  },
  {
   "cell_type": "code",
   "execution_count": 14,
   "metadata": {},
   "outputs": [],
   "source": [
    "database = library[0][\"dataset\"]\n",
    "\n",
    "query = {\n",
    "    \"entities\": down_entities,\n",
    "    \"database\": database,\n",
    "    \"limit\": 5 # top 5 mimickers and reversers\n",
    "}\n",
    "\n",
    "res = requests.post(data_api + \"/enrich/rank\", json=query) # note the change in the endpoint\n",
    "results = res.json()\n",
    "results = results[\"results\"]"
   ]
  },
  {
   "cell_type": "code",
   "execution_count": 14,
   "metadata": {},
   "outputs": [
    {
     "data": {
      "text/plain": [
       "10"
      ]
     },
     "execution_count": 14,
     "metadata": {},
     "output_type": "execute_result"
    }
   ],
   "source": [
    "sig_ids = [i[\"uuid\"] for i in results]\n",
    "# full text search\n",
    "payload = {\n",
    "    \"filter\": {\n",
    "        \"where\": {\n",
    "            \"id\": {\"inq\": sig_ids}\n",
    "        }\n",
    "    }\n",
    "}\n",
    "res = requests.post(metadata_api + \"/signatures/find\", json=payload)\n",
    "signatures = {i[\"id\"] : i for i in res.json()}\n",
    "len(signatures)"
   ]
  },
  {
   "cell_type": "code",
   "execution_count": 15,
   "metadata": {},
   "outputs": [],
   "source": [
    "resolved = []\n",
    "for i in results:\n",
    "    uid = i.pop(\"uuid\")\n",
    "    sig = signatures[uid]\n",
    "    sig[\"scores\"] = i\n",
    "    resolved.append(sig)"
   ]
  },
  {
   "cell_type": "code",
   "execution_count": 16,
   "metadata": {},
   "outputs": [
    {
     "data": {
      "text/plain": [
       "{'$validator': '/dcic/signature-commons-schema/v5/core/signature.json',\n",
       " 'id': '3e1b3726-a32b-5923-89d0-332c3b1e8e18',\n",
       " 'library': '96c7b8c5-1eca-5764-88e4-e4ccaee6603f',\n",
       " 'meta': {'md5': '1b95f470dff0202bffe84e075f30fee9',\n",
       "  'doid': 'DOID:1520',\n",
       "  'sha256': 'b20956b2158aab787615b583255f662fc0b6bdc378f1874e7f0d8c3a37d143a9',\n",
       "  'tissue': 'colon',\n",
       "  'anatomy': 'UBERON:0001155',\n",
       "  'cmap_id': 'XPR014_HT29.311_96H:N12',\n",
       "  'disease': 'colon adenocarcinoma',\n",
       "  'version': 1,\n",
       "  'filename': 'L1000_LINCS_DCIC_XPR014_HT29.311_96H_N12_CLEC4E.tsv',\n",
       "  'local_id': 'XPR014_HT29.311_96H_N12_CLEC4E',\n",
       "  'cell_line': 'HT29',\n",
       "  'pert_name': 'CLEC4E',\n",
       "  'pert_time': '96 h',\n",
       "  'pert_type': 'CRISPR Knockout',\n",
       "  '$validator': 'https://raw.githubusercontent.com/MaayanLab/sigcom-lincs/main/validators/l1000_signatures.json',\n",
       "  'data_level': 5,\n",
       "  'creation_time': '2021-05-24',\n",
       "  'persistent_id': 'https://lincs-dcic.s3.amazonaws.com/LINCS-sigs-2021/cd/xpr/L1000_LINCS_DCIC_XPR014_HT29.311_96H_N12_CLEC4E.tsv',\n",
       "  'size_in_bytes': 216398,\n",
       "  'uncompressed_size_in_bytes': 216398},\n",
       " 'scores': {'p-value': 8.881784197001252e-16,\n",
       "  'p-value-bonferroni': 1.2518430736463415e-10,\n",
       "  'fdr': 2.0864051227439024e-11,\n",
       "  'rank': 140940,\n",
       "  'zscore': -8.029343539630842,\n",
       "  'type': 'down',\n",
       "  'direction': -1}}"
      ]
     },
     "execution_count": 16,
     "metadata": {},
     "output_type": "execute_result"
    }
   ],
   "source": [
    "resolved[-1]"
   ]
  },
  {
   "cell_type": "markdown",
   "metadata": {},
   "source": [
    "## Signature Search with UGCG signatures only\n",
    "The metadata API and the data API are disjoint. The data API does not know which signatures are those of UGCG it only knows uuids. A work around on this is to send the signature ids that we want to perform signature search with to the data API.\n",
    "\n",
    "Caveat: For cases where we have two many signature ids (>10000), (e.g. cell line specific signatures), sending all ids at once may cause the request to fail. You can workaround this issue by dividing the ids and doing the analysis by batch.\n",
    "### Step 1: Find all UGCG signatures using metadata search"
   ]
  },
  {
   "cell_type": "code",
   "execution_count": 17,
   "metadata": {},
   "outputs": [],
   "source": [
    "# full text search\n",
    "payload = {\n",
    "    \"filter\": {\n",
    "        \"where\": {\n",
    "            \"meta.pert_name\": \"UGCG\",\n",
    "            \"library\": library[0][\"id\"]\n",
    "        }\n",
    "    }\n",
    "}\n",
    "res = requests.post(metadata_api + \"/signatures/find\", json=payload)\n",
    "signatures = {i[\"id\"]: i for i in res.json()}"
   ]
  },
  {
   "cell_type": "markdown",
   "metadata": {},
   "source": [
    "### Step 2: Perform SigSearch"
   ]
  },
  {
   "cell_type": "code",
   "execution_count": 18,
   "metadata": {},
   "outputs": [],
   "source": [
    "database = library[0][\"dataset\"]\n",
    "\n",
    "query = {\n",
    "    \"up_entities\": up_entities,\n",
    "    \"down_entities\": down_entities,\n",
    "    \"database\": database,\n",
    "    \"limit\": len(signatures),\n",
    "    \"signatures\": list(signatures.keys()) # add it here\n",
    "}\n",
    "\n",
    "res = requests.post(data_api + \"/enrich/ranktwosided\", json=query)\n",
    "results = res.json()"
   ]
  },
  {
   "cell_type": "markdown",
   "metadata": {},
   "source": [
    "### Step 3: Add the metadata of the signatures:"
   ]
  },
  {
   "cell_type": "code",
   "execution_count": 19,
   "metadata": {},
   "outputs": [],
   "source": [
    "resolved = []\n",
    "for i in results[\"results\"]:\n",
    "    uid = i.pop(\"uuid\")\n",
    "    sig = signatures[uid]\n",
    "    sig[\"scores\"] = i\n",
    "    resolved.append(sig)"
   ]
  },
  {
   "cell_type": "code",
   "execution_count": 20,
   "metadata": {},
   "outputs": [
    {
     "data": {
      "text/plain": [
       "{'$validator': '/dcic/signature-commons-schema/v5/core/signature.json',\n",
       " 'id': '93e451ea-f69a-50b7-a5c8-df8006c7d736',\n",
       " 'library': '96c7b8c5-1eca-5764-88e4-e4ccaee6603f',\n",
       " 'meta': {'md5': 'a1bebbe81b0c3c701ec21fba10141795',\n",
       "  'doid': 'DOID:1520',\n",
       "  'sha256': 'c25aae7aae4a35949809006c711aa2ea3a9f11be2d124dfd0475954ec0f5cbe6',\n",
       "  'tissue': 'colon',\n",
       "  'anatomy': 'UBERON:0001155',\n",
       "  'cmap_id': 'XPR010_HT29.311_96H:L22',\n",
       "  'disease': 'colon adenocarcinoma',\n",
       "  'version': 1,\n",
       "  'filename': 'L1000_LINCS_DCIC_XPR010_HT29.311_96H_L22_UGCG.tsv',\n",
       "  'local_id': 'XPR010_HT29.311_96H_L22_UGCG',\n",
       "  'cell_line': 'HT29',\n",
       "  'pert_name': 'UGCG',\n",
       "  'pert_time': '96 h',\n",
       "  'pert_type': 'CRISPR Knockout',\n",
       "  '$validator': 'https://raw.githubusercontent.com/MaayanLab/sigcom-lincs/main/validators/l1000_signatures.json',\n",
       "  'data_level': 5,\n",
       "  'creation_time': '2021-05-23',\n",
       "  'persistent_id': 'https://lincs-dcic.s3.amazonaws.com/LINCS-sigs-2021/cd/xpr/L1000_LINCS_DCIC_XPR010_HT29.311_96H_L22_UGCG.tsv',\n",
       "  'size_in_bytes': 217077,\n",
       "  'uncompressed_size_in_bytes': 217077},\n",
       " 'scores': {'direction-up': 1,\n",
       "  'fdr-down': 0.07506111962834945,\n",
       "  'logp-avg': 4.728486635053662,\n",
       "  'logp-fisher': 13.334144460028394,\n",
       "  'p-up': 9.201241925382853e-05,\n",
       "  'type': 'mimickers',\n",
       "  'z-down': 2.3741859470794133,\n",
       "  'fdr-up': 0.0005576732071266766,\n",
       "  'z-sum': 6.285027490800859,\n",
       "  'z-up': 3.910841543721446,\n",
       "  'p-down': 0.017587665229176208,\n",
       "  'p-down-bonferroni': 1,\n",
       "  'rank': 5726,\n",
       "  'p-up-bonferroni': 1,\n",
       "  'direction-down': -1}}"
      ]
     },
     "execution_count": 20,
     "metadata": {},
     "output_type": "execute_result"
    }
   ],
   "source": [
    "resolved[0]"
   ]
  },
  {
   "cell_type": "markdown",
   "metadata": {},
   "source": [
    "## [Optional] Creating the ROC curves\n",
    "\n",
    "ROC curves are created using random walks where we go up whenever the signature is a target signature (a UGCG signature for this case) and right if not"
   ]
  },
  {
   "cell_type": "code",
   "execution_count": 21,
   "metadata": {},
   "outputs": [],
   "source": [
    "def get_coordinates(result):\n",
    "    resultInput = result[\"results\"]\n",
    "    resultInput = sorted(resultInput, key=lambda d: d['rank'])\n",
    "    maxRank = result[\"maxRank\"]\n",
    "    mimickers_count = result[\"mimickers\"]\n",
    "    reversers_count = result[\"reversers\"]\n",
    "    mimickers_drug_signatures = np.array([0]*(mimickers_count+1))\n",
    "    mimickers_non_drug_signatures = np.array([0]*(mimickers_count+1))\n",
    "    reversers_drug_signatures = np.array([0]*(reversers_count+1))\n",
    "    reversers_non_drug_signatures = np.array([0]*(reversers_count+1))\n",
    "    \n",
    "    index = 0\n",
    "    for i in range(maxRank):\n",
    "        r = {\"type\": \"-\", \"rank\":-1}\n",
    "        if index < len(resultInput):\n",
    "            r = resultInput[index]\n",
    "        rank = r['rank']\n",
    "        result_type = r[\"type\"]\n",
    "        mimicker_index = i+1\n",
    "        reverser_index = maxRank - i\n",
    "        if rank == i:\n",
    "            index += 1\n",
    "            if (result_type == \"mimickers\"):\n",
    "                mimickers_drug_signatures[mimicker_index] = 1\n",
    "            elif (result_type == \"reversers\"):\n",
    "                reversers_drug_signatures[reverser_index] = 1\n",
    "        else:\n",
    "            if mimicker_index < len(mimickers_non_drug_signatures):\n",
    "                mimickers_non_drug_signatures[mimicker_index] = 1\n",
    "            if reverser_index < len(reversers_non_drug_signatures):\n",
    "                reversers_non_drug_signatures[reverser_index] = 1\n",
    "    mimickers_x = np.cumsum(mimickers_non_drug_signatures)\n",
    "    mimickers_x = mimickers_x/np.max(mimickers_x)\n",
    "    mimickers_y = np.cumsum(mimickers_drug_signatures)\n",
    "    mimickers_y = mimickers_y/np.max(mimickers_y)\n",
    "    \n",
    "    reversers_x = np.cumsum(reversers_non_drug_signatures)\n",
    "    reversers_x = reversers_x/np.max(reversers_x)\n",
    "    reversers_y = np.cumsum(reversers_drug_signatures)\n",
    "    reversers_y = reversers_y/np.max(reversers_y)\n",
    "\n",
    "#     mimickers_auc = np.trapz(x=mimickers_x, y=mimickers_y)\n",
    "#     reversers_auc = np.trapz(x=reversers_x, y=reversers_y)\n",
    "    \n",
    "    return mimickers_x, mimickers_y, reversers_x, reversers_y\n",
    "\n",
    "    "
   ]
  },
  {
   "cell_type": "code",
   "execution_count": 22,
   "metadata": {},
   "outputs": [],
   "source": [
    "mimickers_x, mimickers_y, reversers_x, reversers_y = get_coordinates(results)"
   ]
  },
  {
   "cell_type": "code",
   "execution_count": 23,
   "metadata": {},
   "outputs": [
    {
     "data": {
      "text/plain": [
       "(0.4621871267050032, 0.7033323178250714)"
      ]
     },
     "execution_count": 23,
     "metadata": {},
     "output_type": "execute_result"
    }
   ],
   "source": [
    "mimickers_auc = np.trapz(x=mimickers_x, y=mimickers_y)\n",
    "reversers_auc = np.trapz(x=reversers_x, y=reversers_y)\n",
    "mimickers_auc, reversers_auc"
   ]
  },
  {
   "cell_type": "code",
   "execution_count": 24,
   "metadata": {},
   "outputs": [
    {
     "data": {
      "text/plain": [
       "[<matplotlib.lines.Line2D at 0x122bcb4f0>]"
      ]
     },
     "execution_count": 24,
     "metadata": {},
     "output_type": "execute_result"
    },
    {
     "data": {
      "image/png": "[encoded data removed]",
      "text/plain": [
       "<Figure size 432x288 with 1 Axes>"
      ]
     },
     "metadata": {
      "needs_background": "light"
     },
     "output_type": "display_data"
    }
   ],
   "source": [
    "data = {\n",
    "    \"x\": np.concatenate((mimickers_x, reversers_x)),\n",
    "    \"y\": np.concatenate((mimickers_y, reversers_y)),\n",
    "    \"type\": [\"mimickers (AUC: %.4f)\"%mimickers_auc] * len(mimickers_x) + [\"reversers (AUC: %.4f)\"%reversers_auc] * len(reversers_x)\n",
    "}\n",
    "df = pd.DataFrame(data)\n",
    "g = sns.lineplot(data=df, x=\"x\", y=\"y\", hue=\"type\")\n",
    "lims = [0, 1]\n",
    "g.plot(lims, lims, 'k:')"
   ]
  },
  {
   "cell_type": "code",
   "execution_count": null,
   "metadata": {},
   "outputs": [],
   "source": []
  }
 ],
 "metadata": {
  "kernelspec": {
   "display_name": "jupyter-default",
   "language": "python",
   "name": "jupyter-default"
  },
  "language_info": {
   "codemirror_mode": {
    "name": "ipython",
    "version": 3
   },
   "file_extension": ".py",
   "mimetype": "text/x-python",
   "name": "python",
   "nbconvert_exporter": "python",
   "pygments_lexer": "ipython3",
   "version": "3.8.5"
  }
 },
 "nbformat": 4,
 "nbformat_minor": 4
}
