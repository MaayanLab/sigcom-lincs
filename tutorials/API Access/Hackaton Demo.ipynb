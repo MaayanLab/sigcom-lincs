{
 "cells": [
  {
   "cell_type": "code",
   "execution_count": 1,
   "metadata": {},
   "outputs": [],
   "source": [
    "import json\n",
    "import requests\n",
    "import pandas as pd\n",
    "import numpy as np\n",
    "from matplotlib import pyplot as plt\n",
    "import seaborn as sns"
   ]
  },
  {
   "cell_type": "code",
   "execution_count": 2,
   "metadata": {},
   "outputs": [],
   "source": [
    "metadata_api = \"https://maayanlab.cloud/sigcom-lincs/metadata-api\"\n",
    "data_api = \"https://maayanlab.cloud/sigcom-lincs/data-api/api/v1\""
   ]
  },
  {
   "cell_type": "markdown",
   "metadata": {},
   "source": [
    "## Example 1: Find drugs that induce the top co-mentioned genes with wound healing from literature\n",
    "### Step 1: Perform term search on Geneshot API\n",
    "First we need to find the number of times a gene was co-mentioned with wound healint on literature."
   ]
  },
  {
   "cell_type": "code",
   "execution_count": 3,
   "metadata": {},
   "outputs": [],
   "source": [
    "GENESHOT_URL = 'https://maayanlab.cloud/geneshot/api/search'\n",
    "payload = {\"rif\": \"autorif\", \"term\": \"wound healing\"}\n",
    "\n",
    "res = requests.post(GENESHOT_URL, json=payload)\n",
    "results = res.json()\n"
   ]
  },
  {
   "cell_type": "markdown",
   "metadata": {},
   "source": [
    "For this we only get the top 200 genes based on the number of publication co-mentions"
   ]
  },
  {
   "cell_type": "code",
   "execution_count": 4,
   "metadata": {},
   "outputs": [],
   "source": [
    "top_genes = sorted(list(results['gene_count'].keys()), key=lambda x: results['gene_count'][x][0], reverse=True)[0:200]"
   ]
  },
  {
   "cell_type": "markdown",
   "metadata": {},
   "source": [
    "### Step 2: Convert the top genes to sigcom-lincs gene UUIDs"
   ]
  },
  {
   "cell_type": "code",
   "execution_count": 5,
   "metadata": {},
   "outputs": [],
   "source": [
    "payload = {\n",
    "    \"filter\": {\n",
    "        \"where\": {\n",
    "            \"meta.symbol\": {\n",
    "                \"inq\": top_genes\n",
    "            }\n",
    "        },\n",
    "        \"fields\": [\"id\", \"meta.symbol\"]\n",
    "    }\n",
    "}\n",
    "\n",
    "res = requests.post(metadata_api + \"/entities/find\", json=payload)"
   ]
  },
  {
   "cell_type": "markdown",
   "metadata": {},
   "source": [
    "Notice that we are down to 192 genes, this means that 8 genes has no direct match on our database."
   ]
  },
  {
   "cell_type": "code",
   "execution_count": 6,
   "metadata": {},
   "outputs": [
    {
     "data": {
      "text/plain": [
       "192"
      ]
     },
     "execution_count": 6,
     "metadata": {},
     "output_type": "execute_result"
    }
   ],
   "source": [
    "entities = [i[\"id\"] for i in res.json()]\n",
    "len(entities)"
   ]
  },
  {
   "cell_type": "markdown",
   "metadata": {},
   "source": [
    "### Step 3: Get the name of the dataset that we want to use\n",
    "One way to do this is to perform a full text search on the sigcom lincs datasets."
   ]
  },
  {
   "cell_type": "code",
   "execution_count": 7,
   "metadata": {},
   "outputs": [
    {
     "data": {
      "text/plain": [
       "[{'$validator': '/dcic/signature-commons-schema/v5/core/library.json',\n",
       "  'id': '54198d6e-fe17-5ef8-91ac-02b425761653',\n",
       "  'resource': 'f2bace34-022d-4147-9ca4-7b6e450c794d',\n",
       "  'dataset': 'l1000_cp',\n",
       "  'dataset_type': 'rank_matrix',\n",
       "  'meta': {'date': '2021-06-10',\n",
       "   'icon': './static/images/lincs/CMap.png',\n",
       "   'size': '35.57 GB',\n",
       "   'assay': 'L1000 mRNA profiling assay',\n",
       "   'center': 'LINCS Center for Transcriptomics (Broad Institute)',\n",
       "   '$validator': 'https://raw.githubusercontent.com/MaayanLab/sigcom-lincs/main/validators/lincs_datasets.json',\n",
       "   'total_size': 35565630496,\n",
       "   'url_prefix': 'https://lincs-dcic.s3.amazonaws.com/LINCS-sigs-2021/cd/cp',\n",
       "   'datalevel_5': {'id': 'L1000_cp',\n",
       "    'date': '2021-06-10',\n",
       "    'link': 'https://clue.io/data/CMap2020#LINCS2020',\n",
       "    'size': '35.57 GB',\n",
       "    'version': '1',\n",
       "    'file_url': 'https://lincs-dcic.s3.amazonaws.com/LINCS-sigs-2021/gctx/cd-coefficient/cp_coeff_mat.gctx',\n",
       "    'filesize': 35565630496,\n",
       "    'datalevel': 5,\n",
       "    'description': 'LINCS L1000 Chemical Perturbations (2021)'},\n",
       "   'description': 'LINCS L1000 Chemical Perturbations (2021)',\n",
       "   '$download_counter': 5}}]"
      ]
     },
     "execution_count": 7,
     "metadata": {},
     "output_type": "execute_result"
    }
   ],
   "source": [
    "payload = {\n",
    "    \"filter\": {\n",
    "        \"where\": {\n",
    "            \"meta\": {\n",
    "                \"fullTextSearch\": \"Chemical Perturbation 2021\"\n",
    "            }\n",
    "        }\n",
    "    }\n",
    "}\n",
    "\n",
    "res = requests.post(metadata_api + \"/libraries/find\", json=payload)\n",
    "res.json()"
   ]
  },
  {
   "cell_type": "markdown",
   "metadata": {},
   "source": [
    "We note the dataset"
   ]
  },
  {
   "cell_type": "code",
   "execution_count": 8,
   "metadata": {},
   "outputs": [],
   "source": [
    "chem_pert_dataset = res.json()[0]\n",
    "dataset = chem_pert_dataset['dataset']"
   ]
  },
  {
   "cell_type": "markdown",
   "metadata": {},
   "source": [
    "### Step 4: Perform signature search"
   ]
  },
  {
   "cell_type": "code",
   "execution_count": 9,
   "metadata": {},
   "outputs": [],
   "source": [
    "payload = {\n",
    "    \"entities\": entities, # from step 2\n",
    "    \"database\": dataset, # from step 3\n",
    "    \"limit\": 100, # Get the top 100 signatures that up- or down-regulate the gene set\n",
    "}\n",
    "\n",
    "res = requests.post(data_api + \"/enrich/rank\", json=payload)"
   ]
  },
  {
   "cell_type": "markdown",
   "metadata": {},
   "source": [
    "The results field returns the top signatures that up- or down-regulate our wound healing gene set. It provides (1) the scores, (2) the ranking of that signature, (3) the type of the signature (up or down), and (4) the UUID of the signatures. At the moment, this still don't make sense since we don't know the metadata of the signatures. Hence, we need to resolve the signature metadata.\n",
    "\n",
    "### Step 5: Resolve the metadata\n",
    "Since we only want to search for drugs that induces (or up-regulate) this gene set, we only focus on the those whose `type == 'up'`"
   ]
  },
  {
   "cell_type": "code",
   "execution_count": 10,
   "metadata": {},
   "outputs": [
    {
     "data": {
      "text/plain": [
       "100"
      ]
     },
     "execution_count": 10,
     "metadata": {},
     "output_type": "execute_result"
    }
   ],
   "source": [
    "signatures = [i for i in res.json()[\"results\"] if i[\"type\"] == \"up\"]\n",
    "len(signatures)"
   ]
  },
  {
   "cell_type": "code",
   "execution_count": 11,
   "metadata": {},
   "outputs": [],
   "source": [
    "payload = {\n",
    "    \"filter\": {\n",
    "        \"where\": {\n",
    "            \"id\": {\n",
    "                \"inq\": [i[\"uuid\"] for i in signatures]\n",
    "            }\n",
    "        }\n",
    "    }\n",
    "}\n",
    "res = requests.post(metadata_api + \"/signatures/find\", json=payload)\n"
   ]
  },
  {
   "cell_type": "markdown",
   "metadata": {},
   "source": [
    "Now we can add the metadata to the respective signatures"
   ]
  },
  {
   "cell_type": "code",
   "execution_count": 12,
   "metadata": {},
   "outputs": [],
   "source": [
    "sig_meta = {i[\"id\"]: i for i in res.json()}\n",
    "resolved = []\n",
    "for i in signatures:\n",
    "    sig_id = i[\"uuid\"]\n",
    "    r = {\n",
    "        \"local_id\": sig_meta[sig_id][\"meta\"].get(\"local_id\"),\n",
    "        \"pert_name\": sig_meta[sig_id][\"meta\"].get(\"pert_name\"),\n",
    "        \"pert_dose\": sig_meta[sig_id][\"meta\"].get(\"pert_dose\"),\n",
    "        \"pert_time\": sig_meta[sig_id][\"meta\"].get(\"pert_time\"),\n",
    "        \"cell_line\": sig_meta[sig_id][\"meta\"].get(\"cell_line\"),\n",
    "        \"tissue\": sig_meta[sig_id][\"meta\"].get(\"tissue\"),\n",
    "        \"zscore\": i[\"zscore\"],\n",
    "        \"p-value\": i[\"p-value\"],\n",
    "        \"rank\": i[\"rank\"],\n",
    "        \"type\": i[\"type\"],\n",
    "    }\n",
    "    resolved.append(r)\n"
   ]
  },
  {
   "cell_type": "code",
   "execution_count": 13,
   "metadata": {},
   "outputs": [
    {
     "data": {
      "text/html": [
       "<div>\n",
       "<style scoped>\n",
       "    .dataframe tbody tr th:only-of-type {\n",
       "        vertical-align: middle;\n",
       "    }\n",
       "\n",
       "    .dataframe tbody tr th {\n",
       "        vertical-align: top;\n",
       "    }\n",
       "\n",
       "    .dataframe thead th {\n",
       "        text-align: right;\n",
       "    }\n",
       "</style>\n",
       "<table border=\"1\" class=\"dataframe\">\n",
       "  <thead>\n",
       "    <tr style=\"text-align: right;\">\n",
       "      <th></th>\n",
       "      <th>pert_name</th>\n",
       "      <th>pert_dose</th>\n",
       "      <th>pert_time</th>\n",
       "      <th>cell_line</th>\n",
       "      <th>tissue</th>\n",
       "      <th>zscore</th>\n",
       "      <th>p-value</th>\n",
       "      <th>rank</th>\n",
       "      <th>type</th>\n",
       "    </tr>\n",
       "    <tr>\n",
       "      <th>local_id</th>\n",
       "      <th></th>\n",
       "      <th></th>\n",
       "      <th></th>\n",
       "      <th></th>\n",
       "      <th></th>\n",
       "      <th></th>\n",
       "      <th></th>\n",
       "      <th></th>\n",
       "      <th></th>\n",
       "    </tr>\n",
       "  </thead>\n",
       "  <tbody>\n",
       "    <tr>\n",
       "      <th>AICHI001_THP1_4H_C03_tozasertib_0.66uM</th>\n",
       "      <td>tozasertib</td>\n",
       "      <td>0.66 uM</td>\n",
       "      <td>4 h</td>\n",
       "      <td>THP1</td>\n",
       "      <td>blood</td>\n",
       "      <td>8.579635</td>\n",
       "      <td>0.000000e+00</td>\n",
       "      <td>0</td>\n",
       "      <td>up</td>\n",
       "    </tr>\n",
       "    <tr>\n",
       "      <th>AML001_HL60_6H_K08_BRD-K68552125_3.33uM</th>\n",
       "      <td>BRD-K68552125</td>\n",
       "      <td>3.33 uM</td>\n",
       "      <td>6 h</td>\n",
       "      <td>HL60</td>\n",
       "      <td>blood</td>\n",
       "      <td>8.530019</td>\n",
       "      <td>0.000000e+00</td>\n",
       "      <td>1</td>\n",
       "      <td>up</td>\n",
       "    </tr>\n",
       "    <tr>\n",
       "      <th>PAC069_U2OS_6H_L22_BRD-K06765193_20uM</th>\n",
       "      <td>BRD-K06765193</td>\n",
       "      <td>20 uM</td>\n",
       "      <td>6 h</td>\n",
       "      <td>U2OS</td>\n",
       "      <td>bone tissue</td>\n",
       "      <td>8.330864</td>\n",
       "      <td>0.000000e+00</td>\n",
       "      <td>2</td>\n",
       "      <td>up</td>\n",
       "    </tr>\n",
       "    <tr>\n",
       "      <th>ASG003_XC.P910_24H_L04_entinostat_10uM</th>\n",
       "      <td>entinostat</td>\n",
       "      <td>10 uM</td>\n",
       "      <td>24 h</td>\n",
       "      <td>XC.P910</td>\n",
       "      <td>epithelium</td>\n",
       "      <td>8.178455</td>\n",
       "      <td>2.220446e-16</td>\n",
       "      <td>3</td>\n",
       "      <td>up</td>\n",
       "    </tr>\n",
       "    <tr>\n",
       "      <th>REP.A011_A375_24H_C13_ciprofloxacin_10uM</th>\n",
       "      <td>ciprofloxacin</td>\n",
       "      <td>10 uM</td>\n",
       "      <td>24 h</td>\n",
       "      <td>A375</td>\n",
       "      <td>skin of body</td>\n",
       "      <td>8.173910</td>\n",
       "      <td>2.220446e-16</td>\n",
       "      <td>4</td>\n",
       "      <td>up</td>\n",
       "    </tr>\n",
       "    <tr>\n",
       "      <th>CVD001_PHH_6H_C10_BRD-K74305673_10uM</th>\n",
       "      <td>BRD-K74305673</td>\n",
       "      <td>10 uM</td>\n",
       "      <td>6 h</td>\n",
       "      <td>PHH</td>\n",
       "      <td>liver</td>\n",
       "      <td>8.094973</td>\n",
       "      <td>6.661338e-16</td>\n",
       "      <td>5</td>\n",
       "      <td>up</td>\n",
       "    </tr>\n",
       "    <tr>\n",
       "      <th>PAC001_U2OS_6H_D17_bufalin_10uM</th>\n",
       "      <td>bufalin</td>\n",
       "      <td>10 uM</td>\n",
       "      <td>6 h</td>\n",
       "      <td>U2OS</td>\n",
       "      <td>bone tissue</td>\n",
       "      <td>8.079118</td>\n",
       "      <td>6.661338e-16</td>\n",
       "      <td>6</td>\n",
       "      <td>up</td>\n",
       "    </tr>\n",
       "    <tr>\n",
       "      <th>PAC001_U2OS_6H_I12_BRD-K68552125_8uM</th>\n",
       "      <td>BRD-K68552125</td>\n",
       "      <td>8 uM</td>\n",
       "      <td>6 h</td>\n",
       "      <td>U2OS</td>\n",
       "      <td>bone tissue</td>\n",
       "      <td>7.857511</td>\n",
       "      <td>3.996803e-15</td>\n",
       "      <td>7</td>\n",
       "      <td>up</td>\n",
       "    </tr>\n",
       "    <tr>\n",
       "      <th>HOG001_A549_6H_B14_ingenol_10uM</th>\n",
       "      <td>ingenol</td>\n",
       "      <td>10 uM</td>\n",
       "      <td>6 h</td>\n",
       "      <td>A549</td>\n",
       "      <td>lung</td>\n",
       "      <td>7.848023</td>\n",
       "      <td>4.218847e-15</td>\n",
       "      <td>8</td>\n",
       "      <td>up</td>\n",
       "    </tr>\n",
       "    <tr>\n",
       "      <th>LJP005_PC3_24H_D11_barasertib-HQPA_0.12uM</th>\n",
       "      <td>barasertib-HQPA</td>\n",
       "      <td>0.12 uM</td>\n",
       "      <td>24 h</td>\n",
       "      <td>PC3</td>\n",
       "      <td>prostate gland</td>\n",
       "      <td>7.774405</td>\n",
       "      <td>7.549517e-15</td>\n",
       "      <td>9</td>\n",
       "      <td>up</td>\n",
       "    </tr>\n",
       "  </tbody>\n",
       "</table>\n",
       "</div>"
      ],
      "text/plain": [
       "                                                 pert_name pert_dose  \\\n",
       "local_id                                                               \n",
       "AICHI001_THP1_4H_C03_tozasertib_0.66uM          tozasertib   0.66 uM   \n",
       "AML001_HL60_6H_K08_BRD-K68552125_3.33uM      BRD-K68552125   3.33 uM   \n",
       "PAC069_U2OS_6H_L22_BRD-K06765193_20uM        BRD-K06765193     20 uM   \n",
       "ASG003_XC.P910_24H_L04_entinostat_10uM          entinostat     10 uM   \n",
       "REP.A011_A375_24H_C13_ciprofloxacin_10uM     ciprofloxacin     10 uM   \n",
       "CVD001_PHH_6H_C10_BRD-K74305673_10uM         BRD-K74305673     10 uM   \n",
       "PAC001_U2OS_6H_D17_bufalin_10uM                    bufalin     10 uM   \n",
       "PAC001_U2OS_6H_I12_BRD-K68552125_8uM         BRD-K68552125      8 uM   \n",
       "HOG001_A549_6H_B14_ingenol_10uM                    ingenol     10 uM   \n",
       "LJP005_PC3_24H_D11_barasertib-HQPA_0.12uM  barasertib-HQPA   0.12 uM   \n",
       "\n",
       "                                          pert_time cell_line          tissue  \\\n",
       "local_id                                                                        \n",
       "AICHI001_THP1_4H_C03_tozasertib_0.66uM          4 h      THP1           blood   \n",
       "AML001_HL60_6H_K08_BRD-K68552125_3.33uM         6 h      HL60           blood   \n",
       "PAC069_U2OS_6H_L22_BRD-K06765193_20uM           6 h      U2OS     bone tissue   \n",
       "ASG003_XC.P910_24H_L04_entinostat_10uM         24 h   XC.P910      epithelium   \n",
       "REP.A011_A375_24H_C13_ciprofloxacin_10uM       24 h      A375    skin of body   \n",
       "CVD001_PHH_6H_C10_BRD-K74305673_10uM            6 h       PHH           liver   \n",
       "PAC001_U2OS_6H_D17_bufalin_10uM                 6 h      U2OS     bone tissue   \n",
       "PAC001_U2OS_6H_I12_BRD-K68552125_8uM            6 h      U2OS     bone tissue   \n",
       "HOG001_A549_6H_B14_ingenol_10uM                 6 h      A549            lung   \n",
       "LJP005_PC3_24H_D11_barasertib-HQPA_0.12uM      24 h       PC3  prostate gland   \n",
       "\n",
       "                                             zscore       p-value  rank type  \n",
       "local_id                                                                      \n",
       "AICHI001_THP1_4H_C03_tozasertib_0.66uM     8.579635  0.000000e+00     0   up  \n",
       "AML001_HL60_6H_K08_BRD-K68552125_3.33uM    8.530019  0.000000e+00     1   up  \n",
       "PAC069_U2OS_6H_L22_BRD-K06765193_20uM      8.330864  0.000000e+00     2   up  \n",
       "ASG003_XC.P910_24H_L04_entinostat_10uM     8.178455  2.220446e-16     3   up  \n",
       "REP.A011_A375_24H_C13_ciprofloxacin_10uM   8.173910  2.220446e-16     4   up  \n",
       "CVD001_PHH_6H_C10_BRD-K74305673_10uM       8.094973  6.661338e-16     5   up  \n",
       "PAC001_U2OS_6H_D17_bufalin_10uM            8.079118  6.661338e-16     6   up  \n",
       "PAC001_U2OS_6H_I12_BRD-K68552125_8uM       7.857511  3.996803e-15     7   up  \n",
       "HOG001_A549_6H_B14_ingenol_10uM            7.848023  4.218847e-15     8   up  \n",
       "LJP005_PC3_24H_D11_barasertib-HQPA_0.12uM  7.774405  7.549517e-15     9   up  "
      ]
     },
     "execution_count": 13,
     "metadata": {},
     "output_type": "execute_result"
    }
   ],
   "source": [
    "df = pd.DataFrame(resolved).set_index(\"local_id\").sort_values(\"zscore\", ascending=False)\n",
    "df.head(10)"
   ]
  },
  {
   "cell_type": "markdown",
   "metadata": {},
   "source": [
    "The fourth drug, entinostat (epithelium tissue) is a known histone deacetylase inhibitor\n",
    "\n",
    "![entinostat](./entinostat.png)\n",
    "\n",
    "And while there is sparse literature directly linking entinostat to wound healing, a study about another HDAC inhibitor shows its role on the improvement of wound healing.\n",
    "![HDAC](./HDAC.png)\n",
    "\n",
    "### Step 6: Benchmark how well entinostat up-regulate our input gene set\n",
    "#### Step 6.1 Fetch all entinostat signatures"
   ]
  },
  {
   "cell_type": "code",
   "execution_count": 14,
   "metadata": {},
   "outputs": [
    {
     "data": {
      "text/plain": [
       "988"
      ]
     },
     "execution_count": 14,
     "metadata": {},
     "output_type": "execute_result"
    }
   ],
   "source": [
    "libid = chem_pert_dataset[\"id\"]\n",
    "payload = {\n",
    "    \"filter\": {\n",
    "        \"where\": {\n",
    "            \"meta.pert_name\": \"entinostat\",\n",
    "            \"library\": libid\n",
    "        }\n",
    "    }\n",
    "}\n",
    "\n",
    "res = requests.post(metadata_api + \"/signatures/find\", json=payload)\n",
    "entinostat_signatures = res.json()\n",
    "len(entinostat_signatures)"
   ]
  },
  {
   "cell_type": "markdown",
   "metadata": {},
   "source": [
    "#### Step 6.2 Perform signature search on the celastrol signatures"
   ]
  },
  {
   "cell_type": "code",
   "execution_count": 15,
   "metadata": {},
   "outputs": [],
   "source": [
    "payload = {\n",
    "    \"entities\": entities, # from step 2\n",
    "    \"database\": dataset, # from step 3\n",
    "    \"signatures\": [i[\"id\"] for i in entinostat_signatures]\n",
    "}\n",
    "\n",
    "res = requests.post(data_api + \"/enrich/rank\", json=payload)\n",
    "results = res.json()"
   ]
  },
  {
   "cell_type": "markdown",
   "metadata": {},
   "source": [
    "#### Step 6.3 Generate a ROC curve\n",
    "We create a ROC curve via a random walk, i.e. given all the ranked signatures that up-regulates our input gene set, we go up the y-axis if the signature's perturbagen is entinostat and right the x-axis if not."
   ]
  },
  {
   "cell_type": "code",
   "execution_count": 16,
   "metadata": {},
   "outputs": [],
   "source": [
    "def get_coordinates(result):\n",
    "    resultInput = result[\"results\"]\n",
    "    resultInput = sorted(resultInput, key=lambda d: d['rank'])\n",
    "    maxRank = result[\"maxRank\"]\n",
    "    up_count = result[\"up\"]\n",
    "    up_drug_signatures = np.array([0]*(up_count+1))\n",
    "    up_non_drug_signatures = np.array([0]*(up_count+1))\n",
    "    \n",
    "    index = 0\n",
    "    for i in range(maxRank):\n",
    "        r = {\"type\": \"-\", \"rank\":-1}\n",
    "        if index < len(resultInput):\n",
    "            r = resultInput[index]\n",
    "        rank = r['rank']\n",
    "        result_type = r[\"type\"]\n",
    "        up_index = i+1\n",
    "        if rank == i:\n",
    "            index += 1\n",
    "            if (result_type == \"up\"):\n",
    "                up_drug_signatures[up_index] = 1\n",
    "        else:\n",
    "            if up_index < len(up_non_drug_signatures):\n",
    "                up_non_drug_signatures[up_index] = 1\n",
    "    up_x = np.cumsum(up_non_drug_signatures)\n",
    "    up_x = up_x/np.max(up_x)\n",
    "    up_y = np.cumsum(up_drug_signatures)\n",
    "    up_y = up_y/np.max(up_y)\n",
    "    \n",
    "    return up_x, up_y\n"
   ]
  },
  {
   "cell_type": "code",
   "execution_count": 17,
   "metadata": {},
   "outputs": [],
   "source": [
    "up_x, up_y = get_coordinates(results)"
   ]
  },
  {
   "cell_type": "code",
   "execution_count": 18,
   "metadata": {},
   "outputs": [],
   "source": [
    "up_auc = np.trapz(x=up_x, y=up_y)"
   ]
  },
  {
   "cell_type": "code",
   "execution_count": 19,
   "metadata": {},
   "outputs": [
    {
     "data": {
      "text/plain": [
       "[<matplotlib.lines.Line2D at 0x128368340>]"
      ]
     },
     "execution_count": 19,
     "metadata": {},
     "output_type": "execute_result"
    },
    {
     "data": {
      "image/png": "[encoded data removed]",
      "text/plain": [
       "<Figure size 432x288 with 1 Axes>"
      ]
     },
     "metadata": {
      "needs_background": "light"
     },
     "output_type": "display_data"
    }
   ],
   "source": [
    "data = {\n",
    "    \"x\": up_x,\n",
    "    \"y\": up_y,\n",
    "    \"type\": [\"up (AUC: %.4f)\"%up_auc] * len(up_x)\n",
    "}\n",
    "df = pd.DataFrame(data)\n",
    "g = sns.lineplot(data=df, x=\"x\", y=\"y\", hue=\"type\")\n",
    "lims = [0, 1]\n",
    "g.plot(lims, lims, 'k:')"
   ]
  },
  {
   "cell_type": "markdown",
   "metadata": {},
   "source": [
    "## Example 2: Find drugs that mimic the co-expressed genes of KL\n",
    "For this one, instead of performing signature search on a single gene set, we do it on the top 100 genes that are positively and negatively correlated with KL\n",
    "### Step 1: Get the co-expressed genes from ARCHS4"
   ]
  },
  {
   "cell_type": "code",
   "execution_count": 20,
   "metadata": {},
   "outputs": [],
   "source": [
    "api_url = \"https://maayanlab.cloud/matrixapi\"\n",
    "payload = {\n",
    "    \"count\": 101,\n",
    "    \"id\": \"KL\"\n",
    "}\n",
    "res = requests.post(api_url + \"/coltop\", json=payload)\n",
    "coltop = res.json()"
   ]
  },
  {
   "cell_type": "code",
   "execution_count": 21,
   "metadata": {},
   "outputs": [],
   "source": [
    "payload = {\n",
    "    \"count\": 100,\n",
    "    \"id\": \"KL\"\n",
    "}\n",
    "res = requests.post(api_url + \"/colbottom\", json=payload)\n",
    "colbottom = res.json()"
   ]
  },
  {
   "cell_type": "code",
   "execution_count": 22,
   "metadata": {},
   "outputs": [],
   "source": [
    "up_genes = coltop[\"rowids\"][1:]\n",
    "down_genes = colbottom[\"rowids\"]"
   ]
  },
  {
   "cell_type": "markdown",
   "metadata": {},
   "source": [
    "### Step 2: Convert the genes to UUIDs"
   ]
  },
  {
   "cell_type": "code",
   "execution_count": 23,
   "metadata": {},
   "outputs": [],
   "source": [
    "payload = {\n",
    "    \"filter\": {\n",
    "        \"where\": {\n",
    "            \"meta.symbol\": {\n",
    "                \"inq\": up_genes\n",
    "            }\n",
    "        },\n",
    "        \"fields\": [\"id\", \"meta.symbol\"]\n",
    "    }\n",
    "}\n",
    "\n",
    "res = requests.post(metadata_api + \"/entities/find\", json=payload)\n",
    "up_entities = [i[\"id\"] for i in res.json()]"
   ]
  },
  {
   "cell_type": "code",
   "execution_count": 24,
   "metadata": {},
   "outputs": [
    {
     "data": {
      "text/plain": [
       "99"
      ]
     },
     "execution_count": 24,
     "metadata": {},
     "output_type": "execute_result"
    }
   ],
   "source": [
    "payload = {\n",
    "    \"filter\": {\n",
    "        \"where\": {\n",
    "            \"meta.symbol\": {\n",
    "                \"inq\": down_genes\n",
    "            }\n",
    "        },\n",
    "        \"fields\": [\"id\", \"meta.symbol\"]\n",
    "    }\n",
    "}\n",
    "\n",
    "res = requests.post(metadata_api + \"/entities/find\", json=payload)\n",
    "mapper = {}\n",
    "for i in res.json():\n",
    "    if i[\"meta\"][\"symbol\"] not in mapper:\n",
    "        mapper[i[\"meta\"][\"symbol\"]] = i[\"id\"]\n",
    "down_entities = list(mapper.values())\n",
    "len(down_entities)"
   ]
  },
  {
   "cell_type": "markdown",
   "metadata": {},
   "source": [
    "### Step 3: Perform signature search\n",
    "We already know the dataset previously"
   ]
  },
  {
   "cell_type": "code",
   "execution_count": 25,
   "metadata": {},
   "outputs": [],
   "source": [
    "payload = {\n",
    "    \"up_entities\": up_entities, # from step 2,\n",
    "    \"down_entities\": down_entities, # from step 2\n",
    "    \"database\": dataset,\n",
    "    \"limit\": 100, # Get the top 100 signatures that up- or down-regulate the gene set\n",
    "}\n",
    "\n",
    "res = requests.post(data_api + \"/enrich/ranktwosided\", json=payload)"
   ]
  },
  {
   "cell_type": "markdown",
   "metadata": {},
   "source": [
    "### Step 4: Resolve metadata of the signatures\n",
    "This time we only want the mimickers"
   ]
  },
  {
   "cell_type": "code",
   "execution_count": 26,
   "metadata": {},
   "outputs": [
    {
     "data": {
      "text/plain": [
       "100"
      ]
     },
     "execution_count": 26,
     "metadata": {},
     "output_type": "execute_result"
    }
   ],
   "source": [
    "signatures = [i for i in res.json()[\"results\"] if i[\"type\"] == \"mimickers\"]\n",
    "len(signatures)"
   ]
  },
  {
   "cell_type": "code",
   "execution_count": 27,
   "metadata": {},
   "outputs": [],
   "source": [
    "payload = {\n",
    "    \"filter\": {\n",
    "        \"where\": {\n",
    "            \"id\": {\n",
    "                \"inq\": [i[\"uuid\"] for i in signatures]\n",
    "            }\n",
    "        }\n",
    "    }\n",
    "}\n",
    "res = requests.post(metadata_api + \"/signatures/find\", json=payload)"
   ]
  },
  {
   "cell_type": "code",
   "execution_count": 28,
   "metadata": {},
   "outputs": [],
   "source": [
    "sig_meta = {i[\"id\"]: i for i in res.json()}\n",
    "resolved = []\n",
    "for i in signatures:\n",
    "    sig_id = i[\"uuid\"]\n",
    "    r = {\n",
    "        \"local_id\": sig_meta[sig_id][\"meta\"].get(\"local_id\"),\n",
    "        \"pert_name\": sig_meta[sig_id][\"meta\"].get(\"pert_name\"),\n",
    "        \"pert_dose\": sig_meta[sig_id][\"meta\"].get(\"pert_dose\"),\n",
    "        \"pert_time\": sig_meta[sig_id][\"meta\"].get(\"pert_time\"),\n",
    "        \"cell_line\": sig_meta[sig_id][\"meta\"].get(\"cell_line\"),\n",
    "        \"tissue\": sig_meta[sig_id][\"meta\"].get(\"tissue\"),\n",
    "        \"z-sum\": i[\"z-sum\"],\n",
    "        \"rank\": i[\"rank\"],\n",
    "        \"type\": i[\"type\"],\n",
    "    }\n",
    "    resolved.append(r)"
   ]
  },
  {
   "cell_type": "code",
   "execution_count": 29,
   "metadata": {},
   "outputs": [
    {
     "data": {
      "text/html": [
       "<div>\n",
       "<style scoped>\n",
       "    .dataframe tbody tr th:only-of-type {\n",
       "        vertical-align: middle;\n",
       "    }\n",
       "\n",
       "    .dataframe tbody tr th {\n",
       "        vertical-align: top;\n",
       "    }\n",
       "\n",
       "    .dataframe thead th {\n",
       "        text-align: right;\n",
       "    }\n",
       "</style>\n",
       "<table border=\"1\" class=\"dataframe\">\n",
       "  <thead>\n",
       "    <tr style=\"text-align: right;\">\n",
       "      <th></th>\n",
       "      <th>pert_name</th>\n",
       "      <th>pert_dose</th>\n",
       "      <th>pert_time</th>\n",
       "      <th>cell_line</th>\n",
       "      <th>tissue</th>\n",
       "      <th>z-sum</th>\n",
       "      <th>rank</th>\n",
       "      <th>type</th>\n",
       "    </tr>\n",
       "    <tr>\n",
       "      <th>local_id</th>\n",
       "      <th></th>\n",
       "      <th></th>\n",
       "      <th></th>\n",
       "      <th></th>\n",
       "      <th></th>\n",
       "      <th></th>\n",
       "      <th></th>\n",
       "      <th></th>\n",
       "    </tr>\n",
       "  </thead>\n",
       "  <tbody>\n",
       "    <tr>\n",
       "      <th>REP.B012_HUVEC.A_24H_O21_cobimetinib_0.25uM</th>\n",
       "      <td>cobimetinib</td>\n",
       "      <td>0.25 uM</td>\n",
       "      <td>24 h</td>\n",
       "      <td>HUVEC</td>\n",
       "      <td>umbilical cord</td>\n",
       "      <td>23.389090</td>\n",
       "      <td>0</td>\n",
       "      <td>mimickers</td>\n",
       "    </tr>\n",
       "    <tr>\n",
       "      <th>MUC.CP002_NKDBA_24H_K03_SA-247582_10uM</th>\n",
       "      <td>SA-247582</td>\n",
       "      <td>10 uM</td>\n",
       "      <td>24 h</td>\n",
       "      <td>NKDBA</td>\n",
       "      <td>kidney</td>\n",
       "      <td>21.944423</td>\n",
       "      <td>1</td>\n",
       "      <td>mimickers</td>\n",
       "    </tr>\n",
       "    <tr>\n",
       "      <th>AICHI002_OCILY19_24H_L02_BRD-K08177763_2.5uM</th>\n",
       "      <td>BRD-K08177763</td>\n",
       "      <td>2.5 uM</td>\n",
       "      <td>24 h</td>\n",
       "      <td>OCILY19</td>\n",
       "      <td>lymphoid system</td>\n",
       "      <td>21.890438</td>\n",
       "      <td>2</td>\n",
       "      <td>mimickers</td>\n",
       "    </tr>\n",
       "    <tr>\n",
       "      <th>LJP008_THP1_24H_O02_PD-0325901_3.33uM</th>\n",
       "      <td>PD-0325901</td>\n",
       "      <td>3.33 uM</td>\n",
       "      <td>24 h</td>\n",
       "      <td>THP1</td>\n",
       "      <td>blood</td>\n",
       "      <td>21.487260</td>\n",
       "      <td>3</td>\n",
       "      <td>mimickers</td>\n",
       "    </tr>\n",
       "    <tr>\n",
       "      <th>PBIOA022_HT29_24H_E19_BMS-754807_10uM</th>\n",
       "      <td>BMS-754807</td>\n",
       "      <td>10 uM</td>\n",
       "      <td>24 h</td>\n",
       "      <td>HT29</td>\n",
       "      <td>intestine</td>\n",
       "      <td>21.284384</td>\n",
       "      <td>4</td>\n",
       "      <td>mimickers</td>\n",
       "    </tr>\n",
       "    <tr>\n",
       "      <th>AICHI002_OCILY3_24H_E14_BRD-K30520487_2.5uM</th>\n",
       "      <td>BRD-K30520487</td>\n",
       "      <td>2.5 uM</td>\n",
       "      <td>24 h</td>\n",
       "      <td>OCILY3</td>\n",
       "      <td>lymphoid system</td>\n",
       "      <td>21.234039</td>\n",
       "      <td>5</td>\n",
       "      <td>mimickers</td>\n",
       "    </tr>\n",
       "    <tr>\n",
       "      <th>PBIOA021_MCF7_24H_N02_BMS-536924_4uM</th>\n",
       "      <td>BMS-536924</td>\n",
       "      <td>4 uM</td>\n",
       "      <td>24 h</td>\n",
       "      <td>MCF7</td>\n",
       "      <td>breast</td>\n",
       "      <td>20.983057</td>\n",
       "      <td>6</td>\n",
       "      <td>mimickers</td>\n",
       "    </tr>\n",
       "    <tr>\n",
       "      <th>LJP008_THP1_24H_O05_PD-0325901_0.12uM</th>\n",
       "      <td>PD-0325901</td>\n",
       "      <td>0.12 uM</td>\n",
       "      <td>24 h</td>\n",
       "      <td>THP1</td>\n",
       "      <td>blood</td>\n",
       "      <td>20.818585</td>\n",
       "      <td>7</td>\n",
       "      <td>mimickers</td>\n",
       "    </tr>\n",
       "    <tr>\n",
       "      <th>PBIOA022_HCC515_24H_E20_BMS-754807_3.33uM</th>\n",
       "      <td>BMS-754807</td>\n",
       "      <td>3.33 uM</td>\n",
       "      <td>24 h</td>\n",
       "      <td>HCC515</td>\n",
       "      <td>lung</td>\n",
       "      <td>20.712093</td>\n",
       "      <td>8</td>\n",
       "      <td>mimickers</td>\n",
       "    </tr>\n",
       "    <tr>\n",
       "      <th>REP.A009_THP1_24H_G20_TAK-733_3.33uM</th>\n",
       "      <td>TAK-733</td>\n",
       "      <td>3.33 uM</td>\n",
       "      <td>24 h</td>\n",
       "      <td>THP1</td>\n",
       "      <td>blood</td>\n",
       "      <td>20.551321</td>\n",
       "      <td>9</td>\n",
       "      <td>mimickers</td>\n",
       "    </tr>\n",
       "  </tbody>\n",
       "</table>\n",
       "</div>"
      ],
      "text/plain": [
       "                                                  pert_name pert_dose  \\\n",
       "local_id                                                                \n",
       "REP.B012_HUVEC.A_24H_O21_cobimetinib_0.25uM     cobimetinib   0.25 uM   \n",
       "MUC.CP002_NKDBA_24H_K03_SA-247582_10uM            SA-247582     10 uM   \n",
       "AICHI002_OCILY19_24H_L02_BRD-K08177763_2.5uM  BRD-K08177763    2.5 uM   \n",
       "LJP008_THP1_24H_O02_PD-0325901_3.33uM            PD-0325901   3.33 uM   \n",
       "PBIOA022_HT29_24H_E19_BMS-754807_10uM            BMS-754807     10 uM   \n",
       "AICHI002_OCILY3_24H_E14_BRD-K30520487_2.5uM   BRD-K30520487    2.5 uM   \n",
       "PBIOA021_MCF7_24H_N02_BMS-536924_4uM             BMS-536924      4 uM   \n",
       "LJP008_THP1_24H_O05_PD-0325901_0.12uM            PD-0325901   0.12 uM   \n",
       "PBIOA022_HCC515_24H_E20_BMS-754807_3.33uM        BMS-754807   3.33 uM   \n",
       "REP.A009_THP1_24H_G20_TAK-733_3.33uM                TAK-733   3.33 uM   \n",
       "\n",
       "                                             pert_time cell_line  \\\n",
       "local_id                                                           \n",
       "REP.B012_HUVEC.A_24H_O21_cobimetinib_0.25uM       24 h     HUVEC   \n",
       "MUC.CP002_NKDBA_24H_K03_SA-247582_10uM            24 h     NKDBA   \n",
       "AICHI002_OCILY19_24H_L02_BRD-K08177763_2.5uM      24 h   OCILY19   \n",
       "LJP008_THP1_24H_O02_PD-0325901_3.33uM             24 h      THP1   \n",
       "PBIOA022_HT29_24H_E19_BMS-754807_10uM             24 h      HT29   \n",
       "AICHI002_OCILY3_24H_E14_BRD-K30520487_2.5uM       24 h    OCILY3   \n",
       "PBIOA021_MCF7_24H_N02_BMS-536924_4uM              24 h      MCF7   \n",
       "LJP008_THP1_24H_O05_PD-0325901_0.12uM             24 h      THP1   \n",
       "PBIOA022_HCC515_24H_E20_BMS-754807_3.33uM         24 h    HCC515   \n",
       "REP.A009_THP1_24H_G20_TAK-733_3.33uM              24 h      THP1   \n",
       "\n",
       "                                                       tissue      z-sum  \\\n",
       "local_id                                                                   \n",
       "REP.B012_HUVEC.A_24H_O21_cobimetinib_0.25uM    umbilical cord  23.389090   \n",
       "MUC.CP002_NKDBA_24H_K03_SA-247582_10uM                 kidney  21.944423   \n",
       "AICHI002_OCILY19_24H_L02_BRD-K08177763_2.5uM  lymphoid system  21.890438   \n",
       "LJP008_THP1_24H_O02_PD-0325901_3.33uM                   blood  21.487260   \n",
       "PBIOA022_HT29_24H_E19_BMS-754807_10uM               intestine  21.284384   \n",
       "AICHI002_OCILY3_24H_E14_BRD-K30520487_2.5uM   lymphoid system  21.234039   \n",
       "PBIOA021_MCF7_24H_N02_BMS-536924_4uM                   breast  20.983057   \n",
       "LJP008_THP1_24H_O05_PD-0325901_0.12uM                   blood  20.818585   \n",
       "PBIOA022_HCC515_24H_E20_BMS-754807_3.33uM                lung  20.712093   \n",
       "REP.A009_THP1_24H_G20_TAK-733_3.33uM                    blood  20.551321   \n",
       "\n",
       "                                              rank       type  \n",
       "local_id                                                       \n",
       "REP.B012_HUVEC.A_24H_O21_cobimetinib_0.25uM      0  mimickers  \n",
       "MUC.CP002_NKDBA_24H_K03_SA-247582_10uM           1  mimickers  \n",
       "AICHI002_OCILY19_24H_L02_BRD-K08177763_2.5uM     2  mimickers  \n",
       "LJP008_THP1_24H_O02_PD-0325901_3.33uM            3  mimickers  \n",
       "PBIOA022_HT29_24H_E19_BMS-754807_10uM            4  mimickers  \n",
       "AICHI002_OCILY3_24H_E14_BRD-K30520487_2.5uM      5  mimickers  \n",
       "PBIOA021_MCF7_24H_N02_BMS-536924_4uM             6  mimickers  \n",
       "LJP008_THP1_24H_O05_PD-0325901_0.12uM            7  mimickers  \n",
       "PBIOA022_HCC515_24H_E20_BMS-754807_3.33uM        8  mimickers  \n",
       "REP.A009_THP1_24H_G20_TAK-733_3.33uM             9  mimickers  "
      ]
     },
     "execution_count": 29,
     "metadata": {},
     "output_type": "execute_result"
    }
   ],
   "source": [
    "df = pd.DataFrame(resolved).set_index(\"local_id\").sort_values(\"z-sum\", ascending=False)\n",
    "df.head(10)"
   ]
  },
  {
   "cell_type": "markdown",
   "metadata": {},
   "source": [
    "### Step 5: Benchmark cobimetinib signatures\n",
    "#### Step 5.1: Fetch all cobimetinib signature"
   ]
  },
  {
   "cell_type": "code",
   "execution_count": 30,
   "metadata": {},
   "outputs": [
    {
     "data": {
      "text/plain": [
       "278"
      ]
     },
     "execution_count": 30,
     "metadata": {},
     "output_type": "execute_result"
    }
   ],
   "source": [
    "libid = chem_pert_dataset[\"id\"]\n",
    "payload = {\n",
    "    \"filter\": {\n",
    "        \"where\": {\n",
    "            \"meta.pert_name\": \"cobimetinib\",\n",
    "            \"library\": libid\n",
    "        }\n",
    "    }\n",
    "}\n",
    "\n",
    "res = requests.post(metadata_api + \"/signatures/find\", json=payload)\n",
    "cobimetinib_signatures = res.json()\n",
    "len(cobimetinib_signatures)"
   ]
  },
  {
   "cell_type": "markdown",
   "metadata": {},
   "source": [
    "#### Step 5.2 Perform Signature Search"
   ]
  },
  {
   "cell_type": "code",
   "execution_count": 31,
   "metadata": {},
   "outputs": [],
   "source": [
    "payload = {\n",
    "    \"up_entities\": up_entities, # from step 2,\n",
    "    \"down_entities\": down_entities, # from step 2\n",
    "    \"database\": dataset, # from step 3\n",
    "    \"signatures\": [i[\"id\"] for i in cobimetinib_signatures]\n",
    "}\n",
    "\n",
    "res = requests.post(data_api + \"/enrich/ranktwosided\", json=payload)\n",
    "results = res.json()"
   ]
  },
  {
   "cell_type": "markdown",
   "metadata": {},
   "source": [
    "#### Step 5.3: Generate ROC Curve"
   ]
  },
  {
   "cell_type": "code",
   "execution_count": 32,
   "metadata": {},
   "outputs": [],
   "source": [
    "def get_coordinates(result):\n",
    "    resultInput = result[\"results\"]\n",
    "    resultInput = sorted(resultInput, key=lambda d: d['rank'])\n",
    "    maxRank = result[\"maxRank\"]\n",
    "    mimickers_count = result[\"mimickers\"]\n",
    "    mimickers_drug_signatures = np.array([0]*(mimickers_count+1))\n",
    "    mimickers_non_drug_signatures = np.array([0]*(mimickers_count+1))\n",
    "    \n",
    "    index = 0\n",
    "    for i in range(maxRank):\n",
    "        r = {\"type\": \"-\", \"rank\":-1}\n",
    "        if index < len(resultInput):\n",
    "            r = resultInput[index]\n",
    "        rank = r['rank']\n",
    "        result_type = r[\"type\"]\n",
    "        mimickers_index = i+1\n",
    "        if rank == i:\n",
    "            index += 1\n",
    "            if (result_type == \"mimickers\"):\n",
    "                mimickers_drug_signatures[mimickers_index] = 1\n",
    "        else:\n",
    "            if mimickers_index < len(mimickers_non_drug_signatures):\n",
    "                mimickers_non_drug_signatures[mimickers_index] = 1\n",
    "    mimickers_x = np.cumsum(mimickers_non_drug_signatures)\n",
    "    mimickers_x = mimickers_x/np.max(mimickers_x)\n",
    "    mimickers_y = np.cumsum(mimickers_drug_signatures)\n",
    "    mimickers_y = mimickers_y/np.max(mimickers_y)\n",
    "    \n",
    "    return mimickers_x, mimickers_y\n"
   ]
  },
  {
   "cell_type": "code",
   "execution_count": 33,
   "metadata": {},
   "outputs": [],
   "source": [
    "mimickers_x, mimickers_y = get_coordinates(results)"
   ]
  },
  {
   "cell_type": "code",
   "execution_count": 34,
   "metadata": {},
   "outputs": [],
   "source": [
    "mimickers_auc = np.trapz(x=mimickers_x, y=mimickers_y)"
   ]
  },
  {
   "cell_type": "code",
   "execution_count": 35,
   "metadata": {},
   "outputs": [
    {
     "data": {
      "text/plain": [
       "[<matplotlib.lines.Line2D at 0x12849d790>]"
      ]
     },
     "execution_count": 35,
     "metadata": {},
     "output_type": "execute_result"
    },
    {
     "data": {
      "image/png": "[encoded data removed]",
      "text/plain": [
       "<Figure size 432x288 with 1 Axes>"
      ]
     },
     "metadata": {
      "needs_background": "light"
     },
     "output_type": "display_data"
    }
   ],
   "source": [
    "data = {\n",
    "    \"x\": mimickers_x,\n",
    "    \"y\": mimickers_y,\n",
    "    \"type\": [\"mimickers (AUC: %.4f)\"%mimickers_auc] * len(mimickers_x)\n",
    "}\n",
    "df = pd.DataFrame(data)\n",
    "g = sns.lineplot(data=df, x=\"x\", y=\"y\", hue=\"type\")\n",
    "lims = [0, 1]\n",
    "g.plot(lims, lims, 'k:')"
   ]
  },
  {
   "cell_type": "markdown",
   "metadata": {},
   "source": [
    "## Example 3: Get drug signatures that maximally up-regulate KL\n",
    "### Step 1: Convert KL to UUID"
   ]
  },
  {
   "cell_type": "code",
   "execution_count": 36,
   "metadata": {},
   "outputs": [
    {
     "data": {
      "text/plain": [
       "[{'id': '19216d1e-c995-4675-ac09-ef286d3e0ec9', 'meta': {'symbol': 'KL'}}]"
      ]
     },
     "execution_count": 36,
     "metadata": {},
     "output_type": "execute_result"
    }
   ],
   "source": [
    "payload = {\n",
    "    \"filter\": {\n",
    "        \"where\": {\n",
    "            \"meta.symbol\": \"KL\"\n",
    "        },\n",
    "        \"fields\": [\"id\", \"meta.symbol\"]\n",
    "    }\n",
    "}\n",
    "\n",
    "res = requests.post(metadata_api + \"/entities/find\", json=payload)\n",
    "res.json()"
   ]
  },
  {
   "cell_type": "code",
   "execution_count": 37,
   "metadata": {},
   "outputs": [],
   "source": [
    "gene_id = res.json()[0][\"id\"]"
   ]
  },
  {
   "cell_type": "code",
   "execution_count": 38,
   "metadata": {},
   "outputs": [
    {
     "data": {
      "text/plain": [
       "100"
      ]
     },
     "execution_count": 38,
     "metadata": {},
     "output_type": "execute_result"
    }
   ],
   "source": [
    "payload = {\n",
    "    \"where\": {\n",
    "        \"direction\": \"up\",\n",
    "        \"library\": chem_pert_dataset[\"id\"]\n",
    "    }\n",
    "}\n",
    "res = requests.get(metadata_api + \"/entities/%s/signatures\"%gene_id, params={\"filter\": json.dumps(payload)})\n",
    "up_signatures = [{\n",
    "    \"local_id\": i[\"meta\"].get(\"local_id\"),\n",
    "    \"pert_name\": i[\"meta\"].get(\"pert_name\"),\n",
    "    \"pert_dose\": i[\"meta\"].get(\"pert_dose\"),\n",
    "    \"pert_time\": i[\"meta\"].get(\"pert_time\"),\n",
    "    \"cell_line\": i[\"meta\"].get(\"cell_line\"),\n",
    "    \"tissue\": i[\"meta\"].get(\"tissue\"),\n",
    "    \"score\": i.get(\"score\"),\n",
    "    \"type\": i.get(\"direction\"),\n",
    "} for i in res.json()]\n",
    "len(up_signatures)"
   ]
  },
  {
   "cell_type": "code",
   "execution_count": 39,
   "metadata": {},
   "outputs": [
    {
     "data": {
      "text/html": [
       "<div>\n",
       "<style scoped>\n",
       "    .dataframe tbody tr th:only-of-type {\n",
       "        vertical-align: middle;\n",
       "    }\n",
       "\n",
       "    .dataframe tbody tr th {\n",
       "        vertical-align: top;\n",
       "    }\n",
       "\n",
       "    .dataframe thead th {\n",
       "        text-align: right;\n",
       "    }\n",
       "</style>\n",
       "<table border=\"1\" class=\"dataframe\">\n",
       "  <thead>\n",
       "    <tr style=\"text-align: right;\">\n",
       "      <th></th>\n",
       "      <th>pert_name</th>\n",
       "      <th>pert_dose</th>\n",
       "      <th>pert_time</th>\n",
       "      <th>cell_line</th>\n",
       "      <th>tissue</th>\n",
       "      <th>score</th>\n",
       "      <th>type</th>\n",
       "    </tr>\n",
       "    <tr>\n",
       "      <th>local_id</th>\n",
       "      <th></th>\n",
       "      <th></th>\n",
       "      <th></th>\n",
       "      <th></th>\n",
       "      <th></th>\n",
       "      <th></th>\n",
       "      <th></th>\n",
       "    </tr>\n",
       "  </thead>\n",
       "  <tbody>\n",
       "    <tr>\n",
       "      <th>LKCP002_U2OS_6H_J21_trifluridine_0.12uM</th>\n",
       "      <td>trifluridine</td>\n",
       "      <td>0.12 uM</td>\n",
       "      <td>6 h</td>\n",
       "      <td>U2OS</td>\n",
       "      <td>bone tissue</td>\n",
       "      <td>0.038676</td>\n",
       "      <td>up</td>\n",
       "    </tr>\n",
       "    <tr>\n",
       "      <th>DOS025_VCAP_6H_C14_BRD-K97595524_4uM</th>\n",
       "      <td>BRD-K97595524</td>\n",
       "      <td>4 uM</td>\n",
       "      <td>6 h</td>\n",
       "      <td>VCAP</td>\n",
       "      <td>prostate gland</td>\n",
       "      <td>0.037998</td>\n",
       "      <td>up</td>\n",
       "    </tr>\n",
       "    <tr>\n",
       "      <th>REP.B019_JURKAT_24H_I03_tecastemizole_0.25uM</th>\n",
       "      <td>tecastemizole</td>\n",
       "      <td>0.25 uM</td>\n",
       "      <td>24 h</td>\n",
       "      <td>JURKAT</td>\n",
       "      <td>blood</td>\n",
       "      <td>0.036362</td>\n",
       "      <td>up</td>\n",
       "    </tr>\n",
       "    <tr>\n",
       "      <th>PAC036_U2OS_6H_L19_BRD-K45919129_10uM</th>\n",
       "      <td>BRD-K45919129</td>\n",
       "      <td>10 uM</td>\n",
       "      <td>6 h</td>\n",
       "      <td>U2OS</td>\n",
       "      <td>bone tissue</td>\n",
       "      <td>0.036326</td>\n",
       "      <td>up</td>\n",
       "    </tr>\n",
       "    <tr>\n",
       "      <th>REP.B024_JURKAT_24H_D14_tamsulosin_0.74uM</th>\n",
       "      <td>tamsulosin</td>\n",
       "      <td>0.74 uM</td>\n",
       "      <td>24 h</td>\n",
       "      <td>JURKAT</td>\n",
       "      <td>blood</td>\n",
       "      <td>0.036145</td>\n",
       "      <td>up</td>\n",
       "    </tr>\n",
       "    <tr>\n",
       "      <th>CPC012_A549_24H_H15_TUL-XX025TFA_10uM</th>\n",
       "      <td>TUL-XX025TFA</td>\n",
       "      <td>10 uM</td>\n",
       "      <td>24 h</td>\n",
       "      <td>A549</td>\n",
       "      <td>lung</td>\n",
       "      <td>0.035787</td>\n",
       "      <td>up</td>\n",
       "    </tr>\n",
       "    <tr>\n",
       "      <th>DOS010_VCAP_24H_P22_BRD-K57140889_4uM</th>\n",
       "      <td>BRD-K57140889</td>\n",
       "      <td>4 uM</td>\n",
       "      <td>24 h</td>\n",
       "      <td>VCAP</td>\n",
       "      <td>prostate gland</td>\n",
       "      <td>0.034653</td>\n",
       "      <td>up</td>\n",
       "    </tr>\n",
       "    <tr>\n",
       "      <th>DOS025_VCAP_6H_I08_BRD-K03262953_4uM</th>\n",
       "      <td>BRD-K03262953</td>\n",
       "      <td>4 uM</td>\n",
       "      <td>6 h</td>\n",
       "      <td>VCAP</td>\n",
       "      <td>prostate gland</td>\n",
       "      <td>0.034633</td>\n",
       "      <td>up</td>\n",
       "    </tr>\n",
       "    <tr>\n",
       "      <th>CPC006_SW480_6H_D24_lovastatin_40uM</th>\n",
       "      <td>lovastatin</td>\n",
       "      <td>40 uM</td>\n",
       "      <td>6 h</td>\n",
       "      <td>SW480</td>\n",
       "      <td>large intestine</td>\n",
       "      <td>0.033946</td>\n",
       "      <td>up</td>\n",
       "    </tr>\n",
       "    <tr>\n",
       "      <th>REP.A014_JURKAT_24H_G20_GSK-1292263_3.33uM</th>\n",
       "      <td>GSK-1292263</td>\n",
       "      <td>3.33 uM</td>\n",
       "      <td>24 h</td>\n",
       "      <td>JURKAT</td>\n",
       "      <td>blood</td>\n",
       "      <td>0.033889</td>\n",
       "      <td>up</td>\n",
       "    </tr>\n",
       "  </tbody>\n",
       "</table>\n",
       "</div>"
      ],
      "text/plain": [
       "                                                  pert_name pert_dose  \\\n",
       "local_id                                                                \n",
       "LKCP002_U2OS_6H_J21_trifluridine_0.12uM        trifluridine   0.12 uM   \n",
       "DOS025_VCAP_6H_C14_BRD-K97595524_4uM          BRD-K97595524      4 uM   \n",
       "REP.B019_JURKAT_24H_I03_tecastemizole_0.25uM  tecastemizole   0.25 uM   \n",
       "PAC036_U2OS_6H_L19_BRD-K45919129_10uM         BRD-K45919129     10 uM   \n",
       "REP.B024_JURKAT_24H_D14_tamsulosin_0.74uM        tamsulosin   0.74 uM   \n",
       "CPC012_A549_24H_H15_TUL-XX025TFA_10uM          TUL-XX025TFA     10 uM   \n",
       "DOS010_VCAP_24H_P22_BRD-K57140889_4uM         BRD-K57140889      4 uM   \n",
       "DOS025_VCAP_6H_I08_BRD-K03262953_4uM          BRD-K03262953      4 uM   \n",
       "CPC006_SW480_6H_D24_lovastatin_40uM              lovastatin     40 uM   \n",
       "REP.A014_JURKAT_24H_G20_GSK-1292263_3.33uM      GSK-1292263   3.33 uM   \n",
       "\n",
       "                                             pert_time cell_line  \\\n",
       "local_id                                                           \n",
       "LKCP002_U2OS_6H_J21_trifluridine_0.12uM            6 h      U2OS   \n",
       "DOS025_VCAP_6H_C14_BRD-K97595524_4uM               6 h      VCAP   \n",
       "REP.B019_JURKAT_24H_I03_tecastemizole_0.25uM      24 h    JURKAT   \n",
       "PAC036_U2OS_6H_L19_BRD-K45919129_10uM              6 h      U2OS   \n",
       "REP.B024_JURKAT_24H_D14_tamsulosin_0.74uM         24 h    JURKAT   \n",
       "CPC012_A549_24H_H15_TUL-XX025TFA_10uM             24 h      A549   \n",
       "DOS010_VCAP_24H_P22_BRD-K57140889_4uM             24 h      VCAP   \n",
       "DOS025_VCAP_6H_I08_BRD-K03262953_4uM               6 h      VCAP   \n",
       "CPC006_SW480_6H_D24_lovastatin_40uM                6 h     SW480   \n",
       "REP.A014_JURKAT_24H_G20_GSK-1292263_3.33uM        24 h    JURKAT   \n",
       "\n",
       "                                                       tissue     score type  \n",
       "local_id                                                                      \n",
       "LKCP002_U2OS_6H_J21_trifluridine_0.12uM           bone tissue  0.038676   up  \n",
       "DOS025_VCAP_6H_C14_BRD-K97595524_4uM           prostate gland  0.037998   up  \n",
       "REP.B019_JURKAT_24H_I03_tecastemizole_0.25uM            blood  0.036362   up  \n",
       "PAC036_U2OS_6H_L19_BRD-K45919129_10uM             bone tissue  0.036326   up  \n",
       "REP.B024_JURKAT_24H_D14_tamsulosin_0.74uM               blood  0.036145   up  \n",
       "CPC012_A549_24H_H15_TUL-XX025TFA_10uM                    lung  0.035787   up  \n",
       "DOS010_VCAP_24H_P22_BRD-K57140889_4uM          prostate gland  0.034653   up  \n",
       "DOS025_VCAP_6H_I08_BRD-K03262953_4uM           prostate gland  0.034633   up  \n",
       "CPC006_SW480_6H_D24_lovastatin_40uM           large intestine  0.033946   up  \n",
       "REP.A014_JURKAT_24H_G20_GSK-1292263_3.33uM              blood  0.033889   up  "
      ]
     },
     "execution_count": 39,
     "metadata": {},
     "output_type": "execute_result"
    }
   ],
   "source": [
    "df = pd.DataFrame(up_signatures).set_index(\"local_id\").sort_values(\"score\", ascending=False)\n",
    "df.head(10)"
   ]
  },
  {
   "cell_type": "code",
   "execution_count": null,
   "metadata": {},
   "outputs": [],
   "source": []
  }
 ],
 "metadata": {
  "kernelspec": {
   "display_name": "jupyter-default",
   "language": "python",
   "name": "jupyter-default"
  },
  "language_info": {
   "codemirror_mode": {
    "name": "ipython",
    "version": 3
   },
   "file_extension": ".py",
   "mimetype": "text/x-python",
   "name": "python",
   "nbconvert_exporter": "python",
   "pygments_lexer": "ipython3",
   "version": "3.8.5"
  }
 },
 "nbformat": 4,
 "nbformat_minor": 4
}
